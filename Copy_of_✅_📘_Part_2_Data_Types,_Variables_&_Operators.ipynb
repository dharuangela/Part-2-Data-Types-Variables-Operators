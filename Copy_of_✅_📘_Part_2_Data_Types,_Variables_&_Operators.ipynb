{
  "nbformat": 4,
  "nbformat_minor": 0,
  "metadata": {
    "colab": {
      "provenance": []
    },
    "kernelspec": {
      "name": "python3",
      "display_name": "Python 3"
    },
    "language_info": {
      "name": "python"
    }
  },
  "cells": [
    {
      "cell_type": "markdown",
      "source": [
        "# **🏷️ 1️⃣ What are Data Types?**"
      ],
      "metadata": {
        "id": "gFj8qzvYk3NY"
      }
    },
    {
      "cell_type": "code",
      "source": [
        "a = 1 # variable = value"
      ],
      "metadata": {
        "id": "eLwhw8dI01kP"
      },
      "execution_count": null,
      "outputs": []
    },
    {
      "cell_type": "code",
      "source": [
        "a"
      ],
      "metadata": {
        "colab": {
          "base_uri": "https://localhost:8080/"
        },
        "id": "3Tdepf-S1JWB",
        "outputId": "c6af78f6-3f2f-4704-be8d-9ae66d3eadb4"
      },
      "execution_count": null,
      "outputs": [
        {
          "output_type": "execute_result",
          "data": {
            "text/plain": [
              "1"
            ]
          },
          "metadata": {},
          "execution_count": 2
        }
      ]
    },
    {
      "cell_type": "markdown",
      "source": [
        "# 📌 Data Types (Primitive)\n",
        "\n",
        "A **data type** tells Python what kind of value you are using.\n",
        "\n",
        "Common Python data types:\n",
        "- `int` (integer)\n",
        "- `float` (decimal number)\n",
        "- `str` (string, text)\n",
        "- `bool` (boolean: True or False)\n",
        "\n",
        "Python automatically detects the type based on the value."
      ],
      "metadata": {
        "id": "CIyV8uwNk5l_"
      }
    },
    {
      "cell_type": "code",
      "source": [
        "a = 1 # int a = 1"
      ],
      "metadata": {
        "id": "1I326_1V1R1X"
      },
      "execution_count": null,
      "outputs": []
    },
    {
      "cell_type": "code",
      "source": [
        "type(a)"
      ],
      "metadata": {
        "colab": {
          "base_uri": "https://localhost:8080/"
        },
        "id": "sE-JrMHY1jg-",
        "outputId": "ded33f26-6ee1-4e73-a1fb-4008cd1fc638"
      },
      "execution_count": null,
      "outputs": [
        {
          "output_type": "execute_result",
          "data": {
            "text/plain": [
              "int"
            ]
          },
          "metadata": {},
          "execution_count": 5
        }
      ]
    },
    {
      "cell_type": "code",
      "source": [
        "b = 1.1"
      ],
      "metadata": {
        "id": "YSvwMH5N1mlp"
      },
      "execution_count": null,
      "outputs": []
    },
    {
      "cell_type": "code",
      "source": [
        "type(b)"
      ],
      "metadata": {
        "colab": {
          "base_uri": "https://localhost:8080/"
        },
        "id": "_dKT-DIk1or_",
        "outputId": "4685005e-6f7d-4c64-c2ec-be9fd2416c83"
      },
      "execution_count": null,
      "outputs": [
        {
          "output_type": "execute_result",
          "data": {
            "text/plain": [
              "float"
            ]
          },
          "metadata": {},
          "execution_count": 7
        }
      ]
    },
    {
      "cell_type": "code",
      "source": [
        "c = 'angela'"
      ],
      "metadata": {
        "id": "9UvoUGnV1qbr"
      },
      "execution_count": null,
      "outputs": []
    },
    {
      "cell_type": "code",
      "source": [
        "type(c)"
      ],
      "metadata": {
        "colab": {
          "base_uri": "https://localhost:8080/"
        },
        "id": "w5baS3IG1sq3",
        "outputId": "21e009dd-72a9-449c-efdd-5a2ec231fba3"
      },
      "execution_count": null,
      "outputs": [
        {
          "output_type": "execute_result",
          "data": {
            "text/plain": [
              "str"
            ]
          },
          "metadata": {},
          "execution_count": 9
        }
      ]
    },
    {
      "cell_type": "code",
      "source": [
        "c1 = \"angela\""
      ],
      "metadata": {
        "id": "Bsq6XwNF1wEG"
      },
      "execution_count": null,
      "outputs": []
    },
    {
      "cell_type": "code",
      "source": [
        "type(c1)"
      ],
      "metadata": {
        "colab": {
          "base_uri": "https://localhost:8080/"
        },
        "id": "LC0aaLTU10Yy",
        "outputId": "51d45a39-0007-454a-b641-9fdc2f606b7e"
      },
      "execution_count": null,
      "outputs": [
        {
          "output_type": "execute_result",
          "data": {
            "text/plain": [
              "str"
            ]
          },
          "metadata": {},
          "execution_count": 11
        }
      ]
    },
    {
      "cell_type": "code",
      "source": [
        "c_2 = '''angela'''"
      ],
      "metadata": {
        "id": "fTPVAr5A12V5"
      },
      "execution_count": null,
      "outputs": []
    },
    {
      "cell_type": "code",
      "source": [
        "type(c_2)"
      ],
      "metadata": {
        "colab": {
          "base_uri": "https://localhost:8080/"
        },
        "id": "PKLUxUkv15-i",
        "outputId": "9ac6f03d-afa9-469c-b892-83b74336fefe"
      },
      "execution_count": null,
      "outputs": [
        {
          "output_type": "execute_result",
          "data": {
            "text/plain": [
              "str"
            ]
          },
          "metadata": {},
          "execution_count": 13
        }
      ]
    },
    {
      "cell_type": "code",
      "source": [
        "D = True"
      ],
      "metadata": {
        "id": "w8IQch4a2AED"
      },
      "execution_count": null,
      "outputs": []
    },
    {
      "cell_type": "code",
      "source": [
        "type(D)"
      ],
      "metadata": {
        "colab": {
          "base_uri": "https://localhost:8080/"
        },
        "id": "En33-C4m2DB_",
        "outputId": "677f3954-e986-40e8-a1a5-bc449a04c125"
      },
      "execution_count": null,
      "outputs": [
        {
          "output_type": "execute_result",
          "data": {
            "text/plain": [
              "bool"
            ]
          },
          "metadata": {},
          "execution_count": 15
        }
      ]
    },
    {
      "cell_type": "markdown",
      "source": [
        "# **🏷️ 2️⃣ Numbers: Integers & Floats**"
      ],
      "metadata": {
        "id": "VWyY_dBrk82W"
      }
    },
    {
      "cell_type": "markdown",
      "source": [
        "# 🔢 Integers and Floats\n",
        "\n",
        "- Integers: whole numbers (1, -5, 100)\n",
        "- Floats: decimal numbers (3.14, -0.5)\n",
        "\n",
        "Examples:\n"
      ],
      "metadata": {
        "id": "zqVVc23JlAjP"
      }
    },
    {
      "cell_type": "code",
      "execution_count": null,
      "metadata": {
        "colab": {
          "base_uri": "https://localhost:8080/"
        },
        "id": "hNtfRq37kTo0",
        "outputId": "bc5bd727-2793-4b7e-ad5e-7b60df15995f"
      },
      "outputs": [
        {
          "output_type": "stream",
          "name": "stdout",
          "text": [
            "5 -10 3.14159 -7.5\n"
          ]
        }
      ],
      "source": [
        "# Integers\n",
        "a = 5\n",
        "b = -10\n",
        "\n",
        "# Floats\n",
        "pi = 3.14159\n",
        "temperature = -7.5\n",
        "\n",
        "print(a, b, pi, temperature)"
      ]
    },
    {
      "cell_type": "markdown",
      "source": [
        "# **🏷️ 3️⃣ Strings**"
      ],
      "metadata": {
        "id": "tR9GQtR0lGdW"
      }
    },
    {
      "cell_type": "markdown",
      "source": [
        "# 📝 Strings\n",
        "\n",
        "A **string** is text inside quotes.\n",
        "\n",
        "Single (' ') or double (\" \") or triple (''' ''') quotes are fine.\n",
        "\n",
        "Examples:"
      ],
      "metadata": {
        "id": "dpuWWG0SlI4Q"
      }
    },
    {
      "cell_type": "code",
      "source": [
        "name = \"Alice\"\n",
        "greeting = 'Hello, World!'"
      ],
      "metadata": {
        "id": "27Iq-iQG3FY1"
      },
      "execution_count": null,
      "outputs": []
    },
    {
      "cell_type": "code",
      "source": [
        "\"Hello, World! My name is Alice\""
      ],
      "metadata": {
        "colab": {
          "base_uri": "https://localhost:8080/",
          "height": 36
        },
        "id": "nKe-umQO3FP0",
        "outputId": "fb88272b-636f-4607-b54c-9dcc1f564b65"
      },
      "execution_count": null,
      "outputs": [
        {
          "output_type": "execute_result",
          "data": {
            "text/plain": [
              "'Hello, World! My name is Alice'"
            ],
            "application/vnd.google.colaboratory.intrinsic+json": {
              "type": "string"
            }
          },
          "metadata": {},
          "execution_count": 17
        }
      ]
    },
    {
      "cell_type": "code",
      "source": [
        "greeting + \" My name is \" + name"
      ],
      "metadata": {
        "colab": {
          "base_uri": "https://localhost:8080/",
          "height": 36
        },
        "id": "9GszCfjO3MJG",
        "outputId": "137da48b-e8c8-43d7-9e19-5e594a1e333b"
      },
      "execution_count": null,
      "outputs": [
        {
          "output_type": "execute_result",
          "data": {
            "text/plain": [
              "'Hello, World! My name is Alice'"
            ],
            "application/vnd.google.colaboratory.intrinsic+json": {
              "type": "string"
            }
          },
          "metadata": {},
          "execution_count": 20
        }
      ]
    },
    {
      "cell_type": "code",
      "source": [
        "\"Hello, World! My name is 1\""
      ],
      "metadata": {
        "colab": {
          "base_uri": "https://localhost:8080/",
          "height": 36
        },
        "id": "sZ2zlYXD3L_v",
        "outputId": "0a2b5756-9434-4979-be4e-a9a426e191bb"
      },
      "execution_count": null,
      "outputs": [
        {
          "output_type": "execute_result",
          "data": {
            "text/plain": [
              "'Hello, World! My name is 1'"
            ],
            "application/vnd.google.colaboratory.intrinsic+json": {
              "type": "string"
            }
          },
          "metadata": {},
          "execution_count": 21
        }
      ]
    },
    {
      "cell_type": "code",
      "source": [
        "a"
      ],
      "metadata": {
        "colab": {
          "base_uri": "https://localhost:8080/"
        },
        "id": "5LV5WuI13-8S",
        "outputId": "bc77534c-dd10-49b9-e282-c92853639eec"
      },
      "execution_count": null,
      "outputs": [
        {
          "output_type": "execute_result",
          "data": {
            "text/plain": [
              "1"
            ]
          },
          "metadata": {},
          "execution_count": 23
        }
      ]
    },
    {
      "cell_type": "code",
      "source": [
        "type(a)"
      ],
      "metadata": {
        "colab": {
          "base_uri": "https://localhost:8080/"
        },
        "id": "d_p3u95Z3_-A",
        "outputId": "6e81fa67-6cb6-4ba2-c94f-b8a04bac9101"
      },
      "execution_count": null,
      "outputs": [
        {
          "output_type": "execute_result",
          "data": {
            "text/plain": [
              "int"
            ]
          },
          "metadata": {},
          "execution_count": 24
        }
      ]
    },
    {
      "cell_type": "code",
      "source": [
        "# Type Casting"
      ],
      "metadata": {
        "id": "LI1Q6l3p4Noh"
      },
      "execution_count": null,
      "outputs": []
    },
    {
      "cell_type": "code",
      "source": [
        "raja = 1"
      ],
      "metadata": {
        "id": "6O0JfsbB6w-j"
      },
      "execution_count": null,
      "outputs": []
    },
    {
      "cell_type": "code",
      "source": [
        "raja"
      ],
      "metadata": {
        "colab": {
          "base_uri": "https://localhost:8080/"
        },
        "id": "Hgcm9oG-65ee",
        "outputId": "d7180171-7468-4e3d-c7f4-92b6d7dbc374"
      },
      "execution_count": null,
      "outputs": [
        {
          "output_type": "execute_result",
          "data": {
            "text/plain": [
              "1"
            ]
          },
          "metadata": {},
          "execution_count": 55
        }
      ]
    },
    {
      "cell_type": "code",
      "source": [
        "'raja'"
      ],
      "metadata": {
        "colab": {
          "base_uri": "https://localhost:8080/",
          "height": 36
        },
        "id": "p2SahZ3x66TD",
        "outputId": "cbab0787-c5ce-49b5-ee9d-61617bacba94"
      },
      "execution_count": null,
      "outputs": [
        {
          "output_type": "execute_result",
          "data": {
            "text/plain": [
              "'raja'"
            ],
            "application/vnd.google.colaboratory.intrinsic+json": {
              "type": "string"
            }
          },
          "metadata": {},
          "execution_count": 56
        }
      ]
    },
    {
      "cell_type": "code",
      "source": [
        "str(a)"
      ],
      "metadata": {
        "colab": {
          "base_uri": "https://localhost:8080/",
          "height": 36
        },
        "id": "UpaWRmmf4RMN",
        "outputId": "8a65e638-165b-4909-95e1-7db30dfdc116"
      },
      "execution_count": null,
      "outputs": [
        {
          "output_type": "execute_result",
          "data": {
            "text/plain": [
              "'1'"
            ],
            "application/vnd.google.colaboratory.intrinsic+json": {
              "type": "string"
            }
          },
          "metadata": {},
          "execution_count": 26
        }
      ]
    },
    {
      "cell_type": "code",
      "source": [
        "greeting + \" My name is \" + str(a)"
      ],
      "metadata": {
        "colab": {
          "base_uri": "https://localhost:8080/",
          "height": 36
        },
        "id": "HzLb7LDP3L8P",
        "outputId": "9cf940b4-f570-419e-8810-025ac6d12073"
      },
      "execution_count": null,
      "outputs": [
        {
          "output_type": "execute_result",
          "data": {
            "text/plain": [
              "'Hello, World! My name is 1'"
            ],
            "application/vnd.google.colaboratory.intrinsic+json": {
              "type": "string"
            }
          },
          "metadata": {},
          "execution_count": 27
        }
      ]
    },
    {
      "cell_type": "code",
      "source": [
        "str(a) + str(10)"
      ],
      "metadata": {
        "colab": {
          "base_uri": "https://localhost:8080/",
          "height": 36
        },
        "id": "yxx-j_Ct3xCY",
        "outputId": "a25cb973-8dd3-4ad3-8a61-a8a544c3d187"
      },
      "execution_count": null,
      "outputs": [
        {
          "output_type": "execute_result",
          "data": {
            "text/plain": [
              "'110'"
            ],
            "application/vnd.google.colaboratory.intrinsic+json": {
              "type": "string"
            }
          },
          "metadata": {},
          "execution_count": 28
        }
      ]
    },
    {
      "cell_type": "code",
      "source": [
        "str(a)"
      ],
      "metadata": {
        "colab": {
          "base_uri": "https://localhost:8080/",
          "height": 36
        },
        "id": "WiiuErs54zE6",
        "outputId": "7c2444f6-e586-47d4-a63c-d4b2063cab9e"
      },
      "execution_count": null,
      "outputs": [
        {
          "output_type": "execute_result",
          "data": {
            "text/plain": [
              "'1'"
            ],
            "application/vnd.google.colaboratory.intrinsic+json": {
              "type": "string"
            }
          },
          "metadata": {},
          "execution_count": 29
        }
      ]
    },
    {
      "cell_type": "code",
      "source": [
        "str(10)"
      ],
      "metadata": {
        "colab": {
          "base_uri": "https://localhost:8080/",
          "height": 36
        },
        "id": "rMh32Qsh3w-x",
        "outputId": "6c394598-02fa-4384-adb5-961e8d8e0f93"
      },
      "execution_count": null,
      "outputs": [
        {
          "output_type": "execute_result",
          "data": {
            "text/plain": [
              "'10'"
            ],
            "application/vnd.google.colaboratory.intrinsic+json": {
              "type": "string"
            }
          },
          "metadata": {},
          "execution_count": 30
        }
      ]
    },
    {
      "cell_type": "code",
      "source": [
        "int(str(a)) + int(str(10))"
      ],
      "metadata": {
        "colab": {
          "base_uri": "https://localhost:8080/"
        },
        "id": "QlnguwNx458F",
        "outputId": "f86c7c2d-7aa5-4d00-c37c-98935e447423"
      },
      "execution_count": null,
      "outputs": [
        {
          "output_type": "execute_result",
          "data": {
            "text/plain": [
              "11"
            ]
          },
          "metadata": {},
          "execution_count": 35
        }
      ]
    },
    {
      "cell_type": "code",
      "source": [
        "'1.1'"
      ],
      "metadata": {
        "colab": {
          "base_uri": "https://localhost:8080/",
          "height": 36
        },
        "id": "TkQ6ZJpz52X-",
        "outputId": "142c24c0-74ac-4a54-ddfe-decba7dbec1f"
      },
      "execution_count": null,
      "outputs": [
        {
          "output_type": "execute_result",
          "data": {
            "text/plain": [
              "'1.1'"
            ],
            "application/vnd.google.colaboratory.intrinsic+json": {
              "type": "string"
            }
          },
          "metadata": {},
          "execution_count": 44
        }
      ]
    },
    {
      "cell_type": "code",
      "source": [
        "type('1.1')"
      ],
      "metadata": {
        "colab": {
          "base_uri": "https://localhost:8080/"
        },
        "id": "2Kvz5wrf5ka7",
        "outputId": "7d6eba3c-4c2f-440c-9350-8a98ecb93971"
      },
      "execution_count": null,
      "outputs": [
        {
          "output_type": "execute_result",
          "data": {
            "text/plain": [
              "str"
            ]
          },
          "metadata": {},
          "execution_count": 39
        }
      ]
    },
    {
      "cell_type": "code",
      "source": [
        "int(float('1.1'))"
      ],
      "metadata": {
        "colab": {
          "base_uri": "https://localhost:8080/"
        },
        "id": "1VG5SicV5rMm",
        "outputId": "1a9c91d5-18ea-4c4d-a9ef-0a6034b6e318"
      },
      "execution_count": null,
      "outputs": [
        {
          "output_type": "execute_result",
          "data": {
            "text/plain": [
              "1"
            ]
          },
          "metadata": {},
          "execution_count": 45
        }
      ]
    },
    {
      "cell_type": "code",
      "source": [
        "int(float('1.1')) + 11"
      ],
      "metadata": {
        "colab": {
          "base_uri": "https://localhost:8080/"
        },
        "id": "Ydv7uALO5L-4",
        "outputId": "298b9da4-0842-40b0-d410-ed0f57e568b7"
      },
      "execution_count": null,
      "outputs": [
        {
          "output_type": "execute_result",
          "data": {
            "text/plain": [
              "12"
            ]
          },
          "metadata": {},
          "execution_count": 46
        }
      ]
    },
    {
      "cell_type": "code",
      "source": [
        "'1.5'"
      ],
      "metadata": {
        "colab": {
          "base_uri": "https://localhost:8080/",
          "height": 36
        },
        "id": "Rpz-8BCO5Xp7",
        "outputId": "ae03c261-abe3-4a97-b502-1f93fc26661f"
      },
      "execution_count": null,
      "outputs": [
        {
          "output_type": "execute_result",
          "data": {
            "text/plain": [
              "'1.5'"
            ],
            "application/vnd.google.colaboratory.intrinsic+json": {
              "type": "string"
            }
          },
          "metadata": {},
          "execution_count": 47
        }
      ]
    },
    {
      "cell_type": "code",
      "source": [
        "int(float('1.9'))"
      ],
      "metadata": {
        "colab": {
          "base_uri": "https://localhost:8080/"
        },
        "id": "_0qeSH9J5XmZ",
        "outputId": "d2827062-4972-4e15-c8b2-08bf173c41a4"
      },
      "execution_count": null,
      "outputs": [
        {
          "output_type": "execute_result",
          "data": {
            "text/plain": [
              "1"
            ]
          },
          "metadata": {},
          "execution_count": 53
        }
      ]
    },
    {
      "cell_type": "code",
      "source": [
        "name = \"Alice\"\n",
        "greeting = 'Hello, World!'\n",
        "\n",
        "print(name)\n",
        "print(greeting)\n",
        "\n",
        "# String concatenation (joining)\n",
        "full_greeting = greeting + \" My name is \" + name\n",
        "print(full_greeting)"
      ],
      "metadata": {
        "colab": {
          "base_uri": "https://localhost:8080/"
        },
        "id": "AzXYFxWGlTT3",
        "outputId": "12bd09dd-4c93-4dfa-df38-8cae2d0280a1"
      },
      "execution_count": null,
      "outputs": [
        {
          "output_type": "stream",
          "name": "stdout",
          "text": [
            "Alice\n",
            "Hello, World!\n",
            "Hello, World! My name is Alice\n"
          ]
        }
      ]
    },
    {
      "cell_type": "code",
      "source": [
        "print('''Alice''')"
      ],
      "metadata": {
        "colab": {
          "base_uri": "https://localhost:8080/"
        },
        "id": "sPCha3AdlfII",
        "outputId": "b02be40d-2caa-4c09-b2cd-7dda6b64a385"
      },
      "execution_count": null,
      "outputs": [
        {
          "output_type": "stream",
          "name": "stdout",
          "text": [
            "Alice\n"
          ]
        }
      ]
    },
    {
      "cell_type": "code",
      "source": [
        "eg = 'I am going to the temple'"
      ],
      "metadata": {
        "id": "V2kFroX_7cs-"
      },
      "execution_count": null,
      "outputs": []
    },
    {
      "cell_type": "code",
      "source": [
        "# 'temple'"
      ],
      "metadata": {
        "id": "RN6FLUPY-m5P"
      },
      "execution_count": null,
      "outputs": []
    },
    {
      "cell_type": "code",
      "source": [
        "eg"
      ],
      "metadata": {
        "colab": {
          "base_uri": "https://localhost:8080/",
          "height": 36
        },
        "id": "7y3nCiHg-m1-",
        "outputId": "37ce57f5-b461-43ac-b619-59f0d02665dd"
      },
      "execution_count": null,
      "outputs": [
        {
          "output_type": "execute_result",
          "data": {
            "text/plain": [
              "'I am going to the temple'"
            ],
            "application/vnd.google.colaboratory.intrinsic+json": {
              "type": "string"
            }
          },
          "metadata": {},
          "execution_count": 63
        }
      ]
    },
    {
      "cell_type": "code",
      "source": [
        "# Indexing"
      ],
      "metadata": {
        "id": "kflF-rCM_zH7"
      },
      "execution_count": null,
      "outputs": []
    },
    {
      "cell_type": "code",
      "source": [
        "eg[18] + eg[19] + eg[20] + eg[21] + eg[22] + eg[23]"
      ],
      "metadata": {
        "colab": {
          "base_uri": "https://localhost:8080/",
          "height": 36
        },
        "id": "mqeKXyzT-5Xn",
        "outputId": "91ff5355-8d37-4686-b8ca-42d042ee2cb4"
      },
      "execution_count": null,
      "outputs": [
        {
          "output_type": "execute_result",
          "data": {
            "text/plain": [
              "'temple'"
            ],
            "application/vnd.google.colaboratory.intrinsic+json": {
              "type": "string"
            }
          },
          "metadata": {},
          "execution_count": 69
        }
      ]
    },
    {
      "cell_type": "code",
      "source": [
        "eg[ : ] # eg[start:end-1]"
      ],
      "metadata": {
        "colab": {
          "base_uri": "https://localhost:8080/",
          "height": 36
        },
        "id": "AXvTpz_Q_mTI",
        "outputId": "754e8b3d-c2f7-4910-d2fe-cedc54ff091b"
      },
      "execution_count": null,
      "outputs": [
        {
          "output_type": "execute_result",
          "data": {
            "text/plain": [
              "'I am going to the temple'"
            ],
            "application/vnd.google.colaboratory.intrinsic+json": {
              "type": "string"
            }
          },
          "metadata": {},
          "execution_count": 73
        }
      ]
    },
    {
      "cell_type": "code",
      "source": [
        "eg[0:24]"
      ],
      "metadata": {
        "colab": {
          "base_uri": "https://localhost:8080/",
          "height": 36
        },
        "id": "JjmiSmJP_8JK",
        "outputId": "40d95391-b824-48df-ad92-6eebff8fe854"
      },
      "execution_count": null,
      "outputs": [
        {
          "output_type": "execute_result",
          "data": {
            "text/plain": [
              "'I am going to the temple'"
            ],
            "application/vnd.google.colaboratory.intrinsic+json": {
              "type": "string"
            }
          },
          "metadata": {},
          "execution_count": 75
        }
      ]
    },
    {
      "cell_type": "code",
      "source": [
        "# Slicing"
      ],
      "metadata": {
        "id": "Rpu05PB1AVXQ"
      },
      "execution_count": null,
      "outputs": []
    },
    {
      "cell_type": "code",
      "source": [
        "eg[18:24]"
      ],
      "metadata": {
        "colab": {
          "base_uri": "https://localhost:8080/",
          "height": 36
        },
        "id": "wy5A5Py2_8Fo",
        "outputId": "0a0df193-be67-46a6-eb68-1d998beb061e"
      },
      "execution_count": null,
      "outputs": [
        {
          "output_type": "execute_result",
          "data": {
            "text/plain": [
              "'temple'"
            ],
            "application/vnd.google.colaboratory.intrinsic+json": {
              "type": "string"
            }
          },
          "metadata": {},
          "execution_count": 76
        }
      ]
    },
    {
      "cell_type": "code",
      "source": [
        "\"am going\""
      ],
      "metadata": {
        "id": "OHYx1p-C_8C6"
      },
      "execution_count": null,
      "outputs": []
    },
    {
      "cell_type": "code",
      "source": [
        "eg[2:10]"
      ],
      "metadata": {
        "colab": {
          "base_uri": "https://localhost:8080/",
          "height": 36
        },
        "id": "sHzm6OAq-myt",
        "outputId": "39932d84-85cb-40d5-e502-8f3188e8a330"
      },
      "execution_count": null,
      "outputs": [
        {
          "output_type": "execute_result",
          "data": {
            "text/plain": [
              "'am going'"
            ],
            "application/vnd.google.colaboratory.intrinsic+json": {
              "type": "string"
            }
          },
          "metadata": {},
          "execution_count": 78
        }
      ]
    },
    {
      "cell_type": "code",
      "source": [
        "\"the temple am going\""
      ],
      "metadata": {
        "colab": {
          "base_uri": "https://localhost:8080/",
          "height": 36
        },
        "id": "2wuUsCEdAdtX",
        "outputId": "51d9768b-15e0-44c4-e095-33be9467f0c8"
      },
      "execution_count": null,
      "outputs": [
        {
          "output_type": "execute_result",
          "data": {
            "text/plain": [
              "'the temple am going'"
            ],
            "application/vnd.google.colaboratory.intrinsic+json": {
              "type": "string"
            }
          },
          "metadata": {},
          "execution_count": 79
        }
      ]
    },
    {
      "cell_type": "code",
      "source": [
        "eg"
      ],
      "metadata": {
        "colab": {
          "base_uri": "https://localhost:8080/",
          "height": 36
        },
        "id": "dPgfK4vHAdp5",
        "outputId": "bdee1609-61d7-4edd-a555-0ffa19e58add"
      },
      "execution_count": null,
      "outputs": [
        {
          "output_type": "execute_result",
          "data": {
            "text/plain": [
              "'I am going to the temple'"
            ],
            "application/vnd.google.colaboratory.intrinsic+json": {
              "type": "string"
            }
          },
          "metadata": {},
          "execution_count": 80
        }
      ]
    },
    {
      "cell_type": "code",
      "source": [
        "eg[14:25]"
      ],
      "metadata": {
        "colab": {
          "base_uri": "https://localhost:8080/",
          "height": 36
        },
        "id": "sDRHn9bAAtue",
        "outputId": "8014adef-f4c7-4892-b21f-52c2ecb00ae3"
      },
      "execution_count": null,
      "outputs": [
        {
          "output_type": "execute_result",
          "data": {
            "text/plain": [
              "'the temple'"
            ],
            "application/vnd.google.colaboratory.intrinsic+json": {
              "type": "string"
            }
          },
          "metadata": {},
          "execution_count": 82
        }
      ]
    },
    {
      "cell_type": "code",
      "source": [
        "eg[2:10]"
      ],
      "metadata": {
        "colab": {
          "base_uri": "https://localhost:8080/",
          "height": 36
        },
        "id": "2f-r7sdIA97B",
        "outputId": "574280ba-bfd1-4968-d46c-32f734f5d348"
      },
      "execution_count": null,
      "outputs": [
        {
          "output_type": "execute_result",
          "data": {
            "text/plain": [
              "'am going'"
            ],
            "application/vnd.google.colaboratory.intrinsic+json": {
              "type": "string"
            }
          },
          "metadata": {},
          "execution_count": 85
        }
      ]
    },
    {
      "cell_type": "code",
      "source": [
        "type(' ')"
      ],
      "metadata": {
        "colab": {
          "base_uri": "https://localhost:8080/"
        },
        "id": "EUrp3g9HBZBJ",
        "outputId": "e0776f68-089e-46fe-c609-3617cf6c74db"
      },
      "execution_count": null,
      "outputs": [
        {
          "output_type": "execute_result",
          "data": {
            "text/plain": [
              "str"
            ]
          },
          "metadata": {},
          "execution_count": 89
        }
      ]
    },
    {
      "cell_type": "code",
      "source": [
        "eg[14:25] +  ' ' + eg[2:10]"
      ],
      "metadata": {
        "colab": {
          "base_uri": "https://localhost:8080/",
          "height": 36
        },
        "id": "78LWvOLmBEAK",
        "outputId": "612b5872-8320-42c2-e9cd-ebaafe1db0af"
      },
      "execution_count": null,
      "outputs": [
        {
          "output_type": "execute_result",
          "data": {
            "text/plain": [
              "'the temple am going'"
            ],
            "application/vnd.google.colaboratory.intrinsic+json": {
              "type": "string"
            }
          },
          "metadata": {},
          "execution_count": 90
        }
      ]
    },
    {
      "cell_type": "code",
      "source": [
        "\"to the temple I\""
      ],
      "metadata": {
        "colab": {
          "base_uri": "https://localhost:8080/",
          "height": 36
        },
        "id": "CXbgWPiNAtrJ",
        "outputId": "f60b140a-f4df-4c45-ac47-42f6fe003be2"
      },
      "execution_count": null,
      "outputs": [
        {
          "output_type": "execute_result",
          "data": {
            "text/plain": [
              "'to the temple I'"
            ],
            "application/vnd.google.colaboratory.intrinsic+json": {
              "type": "string"
            }
          },
          "metadata": {},
          "execution_count": 91
        }
      ]
    },
    {
      "cell_type": "code",
      "source": [
        "eg"
      ],
      "metadata": {
        "colab": {
          "base_uri": "https://localhost:8080/",
          "height": 36
        },
        "id": "RXqkPEouAtn2",
        "outputId": "193e45a3-abd3-4532-9b49-3fe6acaee404"
      },
      "execution_count": null,
      "outputs": [
        {
          "output_type": "execute_result",
          "data": {
            "text/plain": [
              "'I am going to the temple'"
            ],
            "application/vnd.google.colaboratory.intrinsic+json": {
              "type": "string"
            }
          },
          "metadata": {},
          "execution_count": 92
        }
      ]
    },
    {
      "cell_type": "code",
      "source": [
        "eg[11:24]"
      ],
      "metadata": {
        "colab": {
          "base_uri": "https://localhost:8080/",
          "height": 36
        },
        "id": "dcVrYHQeBl2A",
        "outputId": "34a7d324-7e6e-4d1a-c5e1-77fd69463430"
      },
      "execution_count": null,
      "outputs": [
        {
          "output_type": "execute_result",
          "data": {
            "text/plain": [
              "'to the temple'"
            ],
            "application/vnd.google.colaboratory.intrinsic+json": {
              "type": "string"
            }
          },
          "metadata": {},
          "execution_count": 97
        }
      ]
    },
    {
      "cell_type": "code",
      "source": [
        "eg[11:] + ' ' + eg[0]"
      ],
      "metadata": {
        "colab": {
          "base_uri": "https://localhost:8080/",
          "height": 36
        },
        "id": "VyGiAN0rBlxk",
        "outputId": "e61ce246-a5f5-464a-973b-db5dd0cc7c6f"
      },
      "execution_count": null,
      "outputs": [
        {
          "output_type": "execute_result",
          "data": {
            "text/plain": [
              "'to the temple I'"
            ],
            "application/vnd.google.colaboratory.intrinsic+json": {
              "type": "string"
            }
          },
          "metadata": {},
          "execution_count": 99
        }
      ]
    },
    {
      "cell_type": "code",
      "source": [
        "eg"
      ],
      "metadata": {
        "colab": {
          "base_uri": "https://localhost:8080/",
          "height": 36
        },
        "id": "AaouxK5aCAiv",
        "outputId": "f6e228e4-fe55-4637-de1e-cab5dc6fe2f7"
      },
      "execution_count": null,
      "outputs": [
        {
          "output_type": "execute_result",
          "data": {
            "text/plain": [
              "'I am going to the temple'"
            ],
            "application/vnd.google.colaboratory.intrinsic+json": {
              "type": "string"
            }
          },
          "metadata": {},
          "execution_count": 100
        }
      ]
    },
    {
      "cell_type": "code",
      "source": [
        "'I am'"
      ],
      "metadata": {
        "colab": {
          "base_uri": "https://localhost:8080/",
          "height": 36
        },
        "id": "5sy6B_UHCAeK",
        "outputId": "7f96fb0b-1d48-43d3-a424-6fe65b33928f"
      },
      "execution_count": null,
      "outputs": [
        {
          "output_type": "execute_result",
          "data": {
            "text/plain": [
              "'I am'"
            ],
            "application/vnd.google.colaboratory.intrinsic+json": {
              "type": "string"
            }
          },
          "metadata": {},
          "execution_count": 101
        }
      ]
    },
    {
      "cell_type": "code",
      "source": [
        "eg[:4]"
      ],
      "metadata": {
        "colab": {
          "base_uri": "https://localhost:8080/",
          "height": 36
        },
        "id": "W5ENvn-SBluc",
        "outputId": "e409f691-8ccf-4531-914e-e28d1e2469a7"
      },
      "execution_count": null,
      "outputs": [
        {
          "output_type": "execute_result",
          "data": {
            "text/plain": [
              "'I am'"
            ],
            "application/vnd.google.colaboratory.intrinsic+json": {
              "type": "string"
            }
          },
          "metadata": {},
          "execution_count": 104
        }
      ]
    },
    {
      "cell_type": "code",
      "source": [
        "eg[::] # eg[start:end-1:step]"
      ],
      "metadata": {
        "colab": {
          "base_uri": "https://localhost:8080/",
          "height": 36
        },
        "id": "nT9RNEB9Blqs",
        "outputId": "9f1afae9-4bee-4413-d44d-ce153973f704"
      },
      "execution_count": null,
      "outputs": [
        {
          "output_type": "execute_result",
          "data": {
            "text/plain": [
              "'I am going to the temple'"
            ],
            "application/vnd.google.colaboratory.intrinsic+json": {
              "type": "string"
            }
          },
          "metadata": {},
          "execution_count": 107
        }
      ]
    },
    {
      "cell_type": "code",
      "source": [
        "\"Ia on otetml\""
      ],
      "metadata": {
        "colab": {
          "base_uri": "https://localhost:8080/",
          "height": 36
        },
        "id": "OValWEkDCesB",
        "outputId": "c3dd47ac-176b-4a83-fe36-445b0a8ef164"
      },
      "execution_count": null,
      "outputs": [
        {
          "output_type": "execute_result",
          "data": {
            "text/plain": [
              "'Ia on otetml'"
            ],
            "application/vnd.google.colaboratory.intrinsic+json": {
              "type": "string"
            }
          },
          "metadata": {},
          "execution_count": 109
        }
      ]
    },
    {
      "cell_type": "code",
      "source": [
        "eg"
      ],
      "metadata": {
        "colab": {
          "base_uri": "https://localhost:8080/",
          "height": 36
        },
        "id": "DkMWhOaoCend",
        "outputId": "0786f4df-a9da-4baf-c00f-96db6df709dd"
      },
      "execution_count": null,
      "outputs": [
        {
          "output_type": "execute_result",
          "data": {
            "text/plain": [
              "'I am going to the temple'"
            ],
            "application/vnd.google.colaboratory.intrinsic+json": {
              "type": "string"
            }
          },
          "metadata": {},
          "execution_count": 110
        }
      ]
    },
    {
      "cell_type": "code",
      "source": [
        "eg[0] + eg[2] +' ' + eg[6]+ eg[8] + ' ' + eg[12] + eg[14] + eg[16] + eg[18] + eg[20] + eg[22]"
      ],
      "metadata": {
        "colab": {
          "base_uri": "https://localhost:8080/",
          "height": 36
        },
        "id": "Syafm3t_Cejy",
        "outputId": "ca7c72dc-c762-4fa1-c086-ad66f5028873"
      },
      "execution_count": null,
      "outputs": [
        {
          "output_type": "execute_result",
          "data": {
            "text/plain": [
              "'Ia on otetml'"
            ],
            "application/vnd.google.colaboratory.intrinsic+json": {
              "type": "string"
            }
          },
          "metadata": {},
          "execution_count": 121
        }
      ]
    },
    {
      "cell_type": "code",
      "source": [
        "# eg[start:end-1:step]"
      ],
      "metadata": {
        "id": "Xt0JCQHyAdmb"
      },
      "execution_count": null,
      "outputs": []
    },
    {
      "cell_type": "code",
      "source": [
        "eg"
      ],
      "metadata": {
        "colab": {
          "base_uri": "https://localhost:8080/",
          "height": 36
        },
        "id": "Ea5RstasD7Z_",
        "outputId": "22f51106-f832-4af0-d23c-79211c46b26a"
      },
      "execution_count": null,
      "outputs": [
        {
          "output_type": "execute_result",
          "data": {
            "text/plain": [
              "'I am going to the temple'"
            ],
            "application/vnd.google.colaboratory.intrinsic+json": {
              "type": "string"
            }
          },
          "metadata": {},
          "execution_count": 128
        }
      ]
    },
    {
      "cell_type": "code",
      "source": [
        "eg[::2]"
      ],
      "metadata": {
        "colab": {
          "base_uri": "https://localhost:8080/",
          "height": 36
        },
        "id": "-I5d8WaqDo7d",
        "outputId": "478b30c9-13a9-4fdb-aa69-c135897d6212"
      },
      "execution_count": null,
      "outputs": [
        {
          "output_type": "execute_result",
          "data": {
            "text/plain": [
              "'Ia on otetml'"
            ],
            "application/vnd.google.colaboratory.intrinsic+json": {
              "type": "string"
            }
          },
          "metadata": {},
          "execution_count": 124
        }
      ]
    },
    {
      "cell_type": "code",
      "source": [
        "eg[::2]"
      ],
      "metadata": {
        "colab": {
          "base_uri": "https://localhost:8080/",
          "height": 36
        },
        "id": "BCOTqujBDo4N",
        "outputId": "022fb8bd-0d8b-4af0-b7d4-c73ffd2e743e"
      },
      "execution_count": null,
      "outputs": [
        {
          "output_type": "execute_result",
          "data": {
            "text/plain": [
              "'Ia on otetml'"
            ],
            "application/vnd.google.colaboratory.intrinsic+json": {
              "type": "string"
            }
          },
          "metadata": {},
          "execution_count": 126
        }
      ]
    },
    {
      "cell_type": "code",
      "source": [
        "eg[::3]"
      ],
      "metadata": {
        "colab": {
          "base_uri": "https://localhost:8080/",
          "height": 36
        },
        "id": "hzercCRQD3pv",
        "outputId": "1cac8246-d8a4-465b-be72-c40791443bd3"
      },
      "execution_count": null,
      "outputs": [
        {
          "output_type": "execute_result",
          "data": {
            "text/plain": [
              "'Imogohtp'"
            ],
            "application/vnd.google.colaboratory.intrinsic+json": {
              "type": "string"
            }
          },
          "metadata": {},
          "execution_count": 127
        }
      ]
    },
    {
      "cell_type": "code",
      "source": [
        "eg.upper()"
      ],
      "metadata": {
        "colab": {
          "base_uri": "https://localhost:8080/",
          "height": 36
        },
        "id": "wKS9EX8PENNs",
        "outputId": "bbe3f6ea-1ecf-4754-90dc-f05c431d4f46"
      },
      "execution_count": null,
      "outputs": [
        {
          "output_type": "execute_result",
          "data": {
            "text/plain": [
              "'I AM GOING TO THE TEMPLE'"
            ],
            "application/vnd.google.colaboratory.intrinsic+json": {
              "type": "string"
            }
          },
          "metadata": {},
          "execution_count": 130
        }
      ]
    },
    {
      "cell_type": "code",
      "source": [
        "eg.lower()"
      ],
      "metadata": {
        "colab": {
          "base_uri": "https://localhost:8080/",
          "height": 36
        },
        "id": "jfXuhcBPENJ7",
        "outputId": "aff36fbe-dd58-443a-e8cf-b0a2ce022e41"
      },
      "execution_count": null,
      "outputs": [
        {
          "output_type": "execute_result",
          "data": {
            "text/plain": [
              "'i am going to the temple'"
            ],
            "application/vnd.google.colaboratory.intrinsic+json": {
              "type": "string"
            }
          },
          "metadata": {},
          "execution_count": 131
        }
      ]
    },
    {
      "cell_type": "code",
      "source": [
        "eg[18:]"
      ],
      "metadata": {
        "colab": {
          "base_uri": "https://localhost:8080/",
          "height": 36
        },
        "id": "GeAl1MYmEdSt",
        "outputId": "cfe528a8-e1ea-4eef-b2e2-359ea9c1d3ba"
      },
      "execution_count": null,
      "outputs": [
        {
          "output_type": "execute_result",
          "data": {
            "text/plain": [
              "'temple'"
            ],
            "application/vnd.google.colaboratory.intrinsic+json": {
              "type": "string"
            }
          },
          "metadata": {},
          "execution_count": 134
        }
      ]
    },
    {
      "cell_type": "code",
      "source": [
        "eg"
      ],
      "metadata": {
        "colab": {
          "base_uri": "https://localhost:8080/",
          "height": 36
        },
        "id": "Zd_Ib3rcEuJt",
        "outputId": "c05fc444-bcfd-4ef4-bb94-8c4cb3067eb6"
      },
      "execution_count": null,
      "outputs": [
        {
          "output_type": "execute_result",
          "data": {
            "text/plain": [
              "'I am going to the temple'"
            ],
            "application/vnd.google.colaboratory.intrinsic+json": {
              "type": "string"
            }
          },
          "metadata": {},
          "execution_count": 137
        }
      ]
    },
    {
      "cell_type": "code",
      "source": [
        "# Split"
      ],
      "metadata": {
        "id": "AFy56_qTE-YH"
      },
      "execution_count": null,
      "outputs": []
    },
    {
      "cell_type": "code",
      "source": [
        "eg.split()[5]"
      ],
      "metadata": {
        "colab": {
          "base_uri": "https://localhost:8080/",
          "height": 36
        },
        "id": "u5v7kI6DEnkt",
        "outputId": "7b01ff36-513a-4b70-a0ea-e34e08035e4e"
      },
      "execution_count": null,
      "outputs": [
        {
          "output_type": "execute_result",
          "data": {
            "text/plain": [
              "'temple'"
            ],
            "application/vnd.google.colaboratory.intrinsic+json": {
              "type": "string"
            }
          },
          "metadata": {},
          "execution_count": 141
        }
      ]
    },
    {
      "cell_type": "code",
      "source": [
        "greeting"
      ],
      "metadata": {
        "colab": {
          "base_uri": "https://localhost:8080/",
          "height": 36
        },
        "id": "SctbZ3GODo04",
        "outputId": "f340b5c4-327d-48a4-fcb6-7f23135d6dda"
      },
      "execution_count": null,
      "outputs": [
        {
          "output_type": "execute_result",
          "data": {
            "text/plain": [
              "'Hello, World!'"
            ],
            "application/vnd.google.colaboratory.intrinsic+json": {
              "type": "string"
            }
          },
          "metadata": {},
          "execution_count": 144
        }
      ]
    },
    {
      "cell_type": "code",
      "source": [
        "greeting.split(',')[1][1:6]"
      ],
      "metadata": {
        "colab": {
          "base_uri": "https://localhost:8080/",
          "height": 36
        },
        "id": "hKRNml2E7-o4",
        "outputId": "7a5401da-ad2b-4e1c-f232-679a63c64f24"
      },
      "execution_count": null,
      "outputs": [
        {
          "output_type": "execute_result",
          "data": {
            "text/plain": [
              "'World'"
            ],
            "application/vnd.google.colaboratory.intrinsic+json": {
              "type": "string"
            }
          },
          "metadata": {},
          "execution_count": 157
        }
      ]
    },
    {
      "cell_type": "code",
      "source": [
        "\"World\""
      ],
      "metadata": {
        "colab": {
          "base_uri": "https://localhost:8080/",
          "height": 36
        },
        "id": "x3sKSavJFe6M",
        "outputId": "d9c052b0-83fd-453c-af29-a0dda696ddff"
      },
      "execution_count": null,
      "outputs": [
        {
          "output_type": "execute_result",
          "data": {
            "text/plain": [
              "'World'"
            ],
            "application/vnd.google.colaboratory.intrinsic+json": {
              "type": "string"
            }
          },
          "metadata": {},
          "execution_count": 147
        }
      ]
    },
    {
      "cell_type": "code",
      "source": [
        "greeting"
      ],
      "metadata": {
        "colab": {
          "base_uri": "https://localhost:8080/",
          "height": 36
        },
        "id": "Y5XsteeIFOPd",
        "outputId": "1b1a594a-009d-4b48-ea96-907375e61d38"
      },
      "execution_count": null,
      "outputs": [
        {
          "output_type": "execute_result",
          "data": {
            "text/plain": [
              "'Hello, World!'"
            ],
            "application/vnd.google.colaboratory.intrinsic+json": {
              "type": "string"
            }
          },
          "metadata": {},
          "execution_count": 158
        }
      ]
    },
    {
      "cell_type": "code",
      "source": [
        "greeting.split(',')[0]"
      ],
      "metadata": {
        "colab": {
          "base_uri": "https://localhost:8080/",
          "height": 36
        },
        "id": "D5l02OY_GEjn",
        "outputId": "323398ef-8f80-485b-ecd3-2c828a3db8bb"
      },
      "execution_count": null,
      "outputs": [
        {
          "output_type": "execute_result",
          "data": {
            "text/plain": [
              "'Hello'"
            ],
            "application/vnd.google.colaboratory.intrinsic+json": {
              "type": "string"
            }
          },
          "metadata": {},
          "execution_count": 167
        }
      ]
    },
    {
      "cell_type": "code",
      "source": [
        "test = 'Start coding or generate with AI' # input"
      ],
      "metadata": {
        "id": "TEKwH8bNGEgF"
      },
      "execution_count": null,
      "outputs": []
    },
    {
      "cell_type": "code",
      "source": [
        "test.lower().split(' ')[5]"
      ],
      "metadata": {
        "colab": {
          "base_uri": "https://localhost:8080/",
          "height": 36
        },
        "id": "iWc0amJ8GvW3",
        "outputId": "c425d5ae-1eb6-4f3d-8b4b-865e74bc075f"
      },
      "execution_count": null,
      "outputs": [
        {
          "output_type": "execute_result",
          "data": {
            "text/plain": [
              "'ai'"
            ],
            "application/vnd.google.colaboratory.intrinsic+json": {
              "type": "string"
            }
          },
          "metadata": {},
          "execution_count": 173
        }
      ]
    },
    {
      "cell_type": "code",
      "source": [
        "\"ai\" # output"
      ],
      "metadata": {
        "id": "2g6BKj_2Gn2v"
      },
      "execution_count": null,
      "outputs": []
    },
    {
      "cell_type": "code",
      "source": [
        "greeting.split(',')[1]"
      ],
      "metadata": {
        "colab": {
          "base_uri": "https://localhost:8080/",
          "height": 35
        },
        "id": "B5rAwmMD8TpJ",
        "outputId": "ff3f9e15-5df3-4630-e2f5-8c3c3456f6f9"
      },
      "execution_count": null,
      "outputs": [
        {
          "output_type": "execute_result",
          "data": {
            "text/plain": [
              "' World!'"
            ],
            "application/vnd.google.colaboratory.intrinsic+json": {
              "type": "string"
            }
          },
          "metadata": {},
          "execution_count": 7
        }
      ]
    },
    {
      "cell_type": "code",
      "source": [
        "greeting"
      ],
      "metadata": {
        "colab": {
          "base_uri": "https://localhost:8080/",
          "height": 36
        },
        "id": "5ZZDl62EHJus",
        "outputId": "a1c61e62-4f94-49e1-8bc8-7089c6ac8fd8"
      },
      "execution_count": null,
      "outputs": [
        {
          "output_type": "execute_result",
          "data": {
            "text/plain": [
              "'Hello, World!'"
            ],
            "application/vnd.google.colaboratory.intrinsic+json": {
              "type": "string"
            }
          },
          "metadata": {},
          "execution_count": 174
        }
      ]
    },
    {
      "cell_type": "code",
      "source": [
        "greeting[:3]"
      ],
      "metadata": {
        "colab": {
          "base_uri": "https://localhost:8080/",
          "height": 35
        },
        "id": "zOfMke_G8GvJ",
        "outputId": "ad259092-4ac7-446a-cdb4-96d4981ad357"
      },
      "execution_count": null,
      "outputs": [
        {
          "output_type": "execute_result",
          "data": {
            "text/plain": [
              "'Hel'"
            ],
            "application/vnd.google.colaboratory.intrinsic+json": {
              "type": "string"
            }
          },
          "metadata": {},
          "execution_count": 5
        }
      ]
    },
    {
      "cell_type": "code",
      "source": [
        "greeting"
      ],
      "metadata": {
        "colab": {
          "base_uri": "https://localhost:8080/",
          "height": 36
        },
        "id": "dpOtWvyvJS72",
        "outputId": "8e380fe3-be27-4d60-e9f8-e7f7dda9cb07"
      },
      "execution_count": null,
      "outputs": [
        {
          "output_type": "execute_result",
          "data": {
            "text/plain": [
              "'Hello, World!'"
            ],
            "application/vnd.google.colaboratory.intrinsic+json": {
              "type": "string"
            }
          },
          "metadata": {},
          "execution_count": 175
        }
      ]
    },
    {
      "cell_type": "code",
      "source": [
        "'!dlroW ,olleH'"
      ],
      "metadata": {
        "colab": {
          "base_uri": "https://localhost:8080/",
          "height": 36
        },
        "id": "koDjdUrBJsxr",
        "outputId": "8b124914-428e-4a0a-8810-42cce97b8f24"
      },
      "execution_count": null,
      "outputs": [
        {
          "output_type": "execute_result",
          "data": {
            "text/plain": [
              "'!dlroW ,olleH'"
            ],
            "application/vnd.google.colaboratory.intrinsic+json": {
              "type": "string"
            }
          },
          "metadata": {},
          "execution_count": 182
        }
      ]
    },
    {
      "cell_type": "code",
      "source": [
        "greeting"
      ],
      "metadata": {
        "colab": {
          "base_uri": "https://localhost:8080/",
          "height": 36
        },
        "id": "LMRGBQLJJ3GW",
        "outputId": "fb5ec7a6-fa40-46e1-d41a-830020ff345a"
      },
      "execution_count": null,
      "outputs": [
        {
          "output_type": "execute_result",
          "data": {
            "text/plain": [
              "'Hello, World!'"
            ],
            "application/vnd.google.colaboratory.intrinsic+json": {
              "type": "string"
            }
          },
          "metadata": {},
          "execution_count": 183
        }
      ]
    },
    {
      "cell_type": "code",
      "source": [
        "greeting[12] + greeting[11] + greeting[10]"
      ],
      "metadata": {
        "colab": {
          "base_uri": "https://localhost:8080/",
          "height": 36
        },
        "id": "Q-O6R1xVJf_-",
        "outputId": "5f86cb17-a96b-4c80-b487-38f0d744f93d"
      },
      "execution_count": null,
      "outputs": [
        {
          "output_type": "execute_result",
          "data": {
            "text/plain": [
              "'!dl'"
            ],
            "application/vnd.google.colaboratory.intrinsic+json": {
              "type": "string"
            }
          },
          "metadata": {},
          "execution_count": 190
        }
      ]
    },
    {
      "cell_type": "code",
      "source": [
        "greeting"
      ],
      "metadata": {
        "colab": {
          "base_uri": "https://localhost:8080/",
          "height": 36
        },
        "id": "OT1B-sqTKCI9",
        "outputId": "617b34bd-2130-491b-a8f3-31174cde7e45"
      },
      "execution_count": null,
      "outputs": [
        {
          "output_type": "execute_result",
          "data": {
            "text/plain": [
              "'Hello, World!'"
            ],
            "application/vnd.google.colaboratory.intrinsic+json": {
              "type": "string"
            }
          },
          "metadata": {},
          "execution_count": 191
        }
      ]
    },
    {
      "cell_type": "code",
      "source": [
        "greeting[::-1]"
      ],
      "metadata": {
        "colab": {
          "base_uri": "https://localhost:8080/",
          "height": 36
        },
        "id": "1hAq_HtTJkP0",
        "outputId": "f913b1f0-d398-429b-b587-384310f34038"
      },
      "execution_count": null,
      "outputs": [
        {
          "output_type": "execute_result",
          "data": {
            "text/plain": [
              "'!dlroW ,olleH'"
            ],
            "application/vnd.google.colaboratory.intrinsic+json": {
              "type": "string"
            }
          },
          "metadata": {},
          "execution_count": 198
        }
      ]
    },
    {
      "cell_type": "code",
      "source": [
        "greeting[::4]"
      ],
      "metadata": {
        "colab": {
          "base_uri": "https://localhost:8080/",
          "height": 36
        },
        "id": "3SLdxAz0JVnM",
        "outputId": "0ad6de5c-f63f-4afd-bb49-5e52e5ae3fed"
      },
      "execution_count": null,
      "outputs": [
        {
          "output_type": "execute_result",
          "data": {
            "text/plain": [
              "'Hoo!'"
            ],
            "application/vnd.google.colaboratory.intrinsic+json": {
              "type": "string"
            }
          },
          "metadata": {},
          "execution_count": 180
        }
      ]
    },
    {
      "cell_type": "code",
      "source": [
        "greeting[::-1]"
      ],
      "metadata": {
        "colab": {
          "base_uri": "https://localhost:8080/",
          "height": 35
        },
        "id": "vklOIZEq8MiR",
        "outputId": "56da383a-16cd-4d9e-81b8-d66aa998a3b8"
      },
      "execution_count": null,
      "outputs": [
        {
          "output_type": "execute_result",
          "data": {
            "text/plain": [
              "'!dlroW ,olleH'"
            ],
            "application/vnd.google.colaboratory.intrinsic+json": {
              "type": "string"
            }
          },
          "metadata": {},
          "execution_count": 8
        }
      ]
    },
    {
      "cell_type": "code",
      "source": [
        "greeting"
      ],
      "metadata": {
        "colab": {
          "base_uri": "https://localhost:8080/",
          "height": 36
        },
        "id": "7iq5UUVkPrps",
        "outputId": "d9f7df7d-d8c3-4726-e3fe-85e0590f2f4f"
      },
      "execution_count": null,
      "outputs": [
        {
          "output_type": "execute_result",
          "data": {
            "text/plain": [
              "'Hello, World!'"
            ],
            "application/vnd.google.colaboratory.intrinsic+json": {
              "type": "string"
            }
          },
          "metadata": {},
          "execution_count": 252
        }
      ]
    },
    {
      "cell_type": "code",
      "source": [
        "len(greeting)"
      ],
      "metadata": {
        "colab": {
          "base_uri": "https://localhost:8080/"
        },
        "id": "eNo4W3GuPtoe",
        "outputId": "1a809840-00ee-4fae-9d3e-747ed3e31838"
      },
      "execution_count": null,
      "outputs": [
        {
          "output_type": "execute_result",
          "data": {
            "text/plain": [
              "13"
            ]
          },
          "metadata": {},
          "execution_count": 254
        }
      ]
    },
    {
      "cell_type": "code",
      "source": [
        "len('raja')"
      ],
      "metadata": {
        "colab": {
          "base_uri": "https://localhost:8080/"
        },
        "id": "FtC2ed10Pzok",
        "outputId": "977ecd14-17bc-42b0-da48-bd180308c0ae"
      },
      "execution_count": null,
      "outputs": [
        {
          "output_type": "execute_result",
          "data": {
            "text/plain": [
              "4"
            ]
          },
          "metadata": {},
          "execution_count": 255
        }
      ]
    },
    {
      "cell_type": "markdown",
      "source": [
        "# **🏷️ 4️⃣ Booleans**"
      ],
      "metadata": {
        "id": "Scvxr0O_lpNf"
      }
    },
    {
      "cell_type": "markdown",
      "source": [
        "# ✅ Booleans\n",
        "\n",
        "A **boolean** can be only `True` or `False`.\n",
        "\n",
        "Example:"
      ],
      "metadata": {
        "id": "gAVcuwVPlrAP"
      }
    },
    {
      "cell_type": "code",
      "source": [
        "is_raining = True\n",
        "is_sunny = False\n",
        "\n",
        "print(is_raining)\n",
        "print(is_sunny)"
      ],
      "metadata": {
        "colab": {
          "base_uri": "https://localhost:8080/"
        },
        "id": "1H8DAmIBljdA",
        "outputId": "7f31e756-10c8-4032-d629-82a2ff7faf69"
      },
      "execution_count": null,
      "outputs": [
        {
          "output_type": "stream",
          "name": "stdout",
          "text": [
            "True\n",
            "False\n"
          ]
        }
      ]
    },
    {
      "cell_type": "markdown",
      "source": [
        "# **🏷️ 5️⃣ Type Checking and Conversion**"
      ],
      "metadata": {
        "id": "561NLmKDlu9f"
      }
    },
    {
      "cell_type": "markdown",
      "source": [
        "# 🔍 Checking Data Types\n",
        "\n",
        "Use `type()` to check a variable’s type.\n",
        "\n",
        "Example:"
      ],
      "metadata": {
        "id": "vGuZVhbwlyZP"
      }
    },
    {
      "cell_type": "code",
      "source": [
        "x = 5\n",
        "y = \"Hello\"\n",
        "z = True\n",
        "\n",
        "print(type(x))\n",
        "print(type(y))\n",
        "print(type(z))"
      ],
      "metadata": {
        "colab": {
          "base_uri": "https://localhost:8080/"
        },
        "id": "lll3aVE9lsu4",
        "outputId": "43849b7a-5442-4f62-f216-5b9269558d31"
      },
      "execution_count": null,
      "outputs": [
        {
          "output_type": "stream",
          "name": "stdout",
          "text": [
            "<class 'int'>\n",
            "<class 'str'>\n",
            "<class 'bool'>\n"
          ]
        }
      ]
    },
    {
      "cell_type": "markdown",
      "source": [
        "# 🔄 Type Conversion\n",
        "\n",
        "Change from one type to another:\n",
        "\n",
        "- `int()`\n",
        "- `float()`\n",
        "- `str()`\n",
        "- `bool()`\n",
        "\n",
        "Example:"
      ],
      "metadata": {
        "id": "7rnTNKUIl7I3"
      }
    },
    {
      "cell_type": "code",
      "source": [
        "num = \"123\"   # string\n",
        "print(type(num))\n",
        "\n",
        "num_int = int(num)  # convert to int\n",
        "print(num_int, type(num_int))\n",
        "\n",
        "f = float(num_int)  # convert to float\n",
        "print(f, type(f))"
      ],
      "metadata": {
        "colab": {
          "base_uri": "https://localhost:8080/"
        },
        "id": "YLTvcC4al0U4",
        "outputId": "4b1e9916-71c8-4810-85dc-8bd6db5a1573"
      },
      "execution_count": null,
      "outputs": [
        {
          "output_type": "stream",
          "name": "stdout",
          "text": [
            "<class 'str'>\n",
            "123 <class 'int'>\n",
            "123.0 <class 'float'>\n"
          ]
        }
      ]
    },
    {
      "cell_type": "code",
      "source": [
        "type(\"True\")"
      ],
      "metadata": {
        "colab": {
          "base_uri": "https://localhost:8080/"
        },
        "id": "bXFl1npxmDAw",
        "outputId": "a0d50fbc-bafc-44eb-a686-5ceabcf14c83"
      },
      "execution_count": null,
      "outputs": [
        {
          "output_type": "execute_result",
          "data": {
            "text/plain": [
              "str"
            ]
          },
          "metadata": {},
          "execution_count": 13
        }
      ]
    },
    {
      "cell_type": "code",
      "source": [
        "bool(\"True\")"
      ],
      "metadata": {
        "colab": {
          "base_uri": "https://localhost:8080/"
        },
        "id": "_n0dC50El_4w",
        "outputId": "a3560453-2bc3-48af-a980-d69c10795453"
      },
      "execution_count": null,
      "outputs": [
        {
          "output_type": "execute_result",
          "data": {
            "text/plain": [
              "True"
            ]
          },
          "metadata": {},
          "execution_count": 12
        }
      ]
    },
    {
      "cell_type": "code",
      "source": [
        "type(bool(\"True\"))"
      ],
      "metadata": {
        "colab": {
          "base_uri": "https://localhost:8080/"
        },
        "id": "EZlVSPsCmOmS",
        "outputId": "4d339563-429c-4176-9b66-ab5e2b5e9d3a"
      },
      "execution_count": null,
      "outputs": [
        {
          "output_type": "execute_result",
          "data": {
            "text/plain": [
              "bool"
            ]
          },
          "metadata": {},
          "execution_count": 14
        }
      ]
    },
    {
      "cell_type": "markdown",
      "source": [
        "# **🏷️ 6️⃣ Variables and Naming Rules**"
      ],
      "metadata": {
        "id": "JqZJFac5mZN9"
      }
    },
    {
      "cell_type": "markdown",
      "source": [
        "# 📌 Variables\n",
        "\n",
        "Variables store values.\n",
        "\n",
        "Rules:\n",
        "\n",
        "✅ Must start with a letter or `_`  \n",
        "✅ Cannot start with a number  \n",
        "✅ No spaces (use `_` or camelCase)  \n",
        "✅ Case-sensitive\n",
        "\n",
        "Examples:"
      ],
      "metadata": {
        "id": "5NXSfC4_mc7_"
      }
    },
    {
      "cell_type": "code",
      "source": [
        "student_name = \"Bob\"\n",
        "studentAge = 20\n",
        "\n",
        "# Good: snake_case or camelCase\n",
        "# Bad: starting with a number"
      ],
      "metadata": {
        "id": "CGELqjwNmgv3"
      },
      "execution_count": null,
      "outputs": []
    },
    {
      "cell_type": "markdown",
      "source": [
        "# **🏷️ 7️⃣ Operators: Arithmetic**"
      ],
      "metadata": {
        "id": "Fhn4e4zmm8Sn"
      }
    },
    {
      "cell_type": "markdown",
      "source": [
        "# ➗ Arithmetic Operators\n",
        "\n",
        "- `+` Addition\n",
        "- `-` Subtraction\n",
        "- `*` Multiplication\n",
        "- `/` Division\n",
        "- `//` Floor division\n",
        "- `%` Modulo (remainder)\n",
        "- `**` Exponent (power)\n",
        "\n",
        "Examples:"
      ],
      "metadata": {
        "id": "Gxuu2T6zm-Ne"
      }
    },
    {
      "cell_type": "code",
      "source": [
        "a = 10\n",
        "b = 3"
      ],
      "metadata": {
        "id": "Q9IbWjiQLd8b"
      },
      "execution_count": null,
      "outputs": []
    },
    {
      "cell_type": "code",
      "source": [
        "a/b"
      ],
      "metadata": {
        "colab": {
          "base_uri": "https://localhost:8080/"
        },
        "id": "JiwcOtKqLmXd",
        "outputId": "d46019b8-2aaf-49dc-cd45-1d07255cc12b"
      },
      "execution_count": null,
      "outputs": [
        {
          "output_type": "execute_result",
          "data": {
            "text/plain": [
              "3.3333333333333335"
            ]
          },
          "metadata": {},
          "execution_count": 205
        }
      ]
    },
    {
      "cell_type": "code",
      "source": [
        "10/2.1"
      ],
      "metadata": {
        "colab": {
          "base_uri": "https://localhost:8080/"
        },
        "id": "WtGat6hCLu7d",
        "outputId": "15f83dab-68a1-4bf0-ba4b-2aaed20d10ad"
      },
      "execution_count": null,
      "outputs": [
        {
          "output_type": "execute_result",
          "data": {
            "text/plain": [
              "4.761904761904762"
            ]
          },
          "metadata": {},
          "execution_count": 208
        }
      ]
    },
    {
      "cell_type": "code",
      "source": [
        "10//2.1"
      ],
      "metadata": {
        "colab": {
          "base_uri": "https://localhost:8080/"
        },
        "id": "2rdO7dRNLy0R",
        "outputId": "d0ff878b-9c6b-4c62-88b8-4d8a083633fe"
      },
      "execution_count": null,
      "outputs": [
        {
          "output_type": "execute_result",
          "data": {
            "text/plain": [
              "4.0"
            ]
          },
          "metadata": {},
          "execution_count": 209
        }
      ]
    },
    {
      "cell_type": "code",
      "source": [
        "a//b"
      ],
      "metadata": {
        "colab": {
          "base_uri": "https://localhost:8080/"
        },
        "id": "56BiPF39LemL",
        "outputId": "7489b62d-9f7d-4c45-ae7d-5f09724feaac"
      },
      "execution_count": null,
      "outputs": [
        {
          "output_type": "execute_result",
          "data": {
            "text/plain": [
              "3"
            ]
          },
          "metadata": {},
          "execution_count": 204
        }
      ]
    },
    {
      "cell_type": "code",
      "source": [
        "a,b"
      ],
      "metadata": {
        "colab": {
          "base_uri": "https://localhost:8080/"
        },
        "id": "4HQbV7VLL3iD",
        "outputId": "54934958-bb4d-4f24-ddcc-93738555ebdb"
      },
      "execution_count": null,
      "outputs": [
        {
          "output_type": "execute_result",
          "data": {
            "text/plain": [
              "(10, 3)"
            ]
          },
          "metadata": {},
          "execution_count": 211
        }
      ]
    },
    {
      "cell_type": "code",
      "source": [
        "a**b"
      ],
      "metadata": {
        "colab": {
          "base_uri": "https://localhost:8080/"
        },
        "id": "d4GpjJXGL1hk",
        "outputId": "6264ca60-a02e-42ce-97dd-077c66b4546a"
      },
      "execution_count": null,
      "outputs": [
        {
          "output_type": "execute_result",
          "data": {
            "text/plain": [
              "1000"
            ]
          },
          "metadata": {},
          "execution_count": 210
        }
      ]
    },
    {
      "cell_type": "code",
      "source": [
        "a = 10\n",
        "b = 3\n",
        "\n",
        "print(\"Addition:\", a + b)\n",
        "print(\"Subtraction:\", a - b)\n",
        "print(\"Multiplication:\", a * b)\n",
        "print(\"Division:\", a / b)\n",
        "print(\"Floor Division:\", a // b)\n",
        "print(\"Modulo:\", a % b)\n",
        "print(\"Exponent:\", a ** b)"
      ],
      "metadata": {
        "colab": {
          "base_uri": "https://localhost:8080/"
        },
        "id": "RJoVlcEbm1v3",
        "outputId": "a2435711-0b83-4d84-b962-3f4e8ea932bd"
      },
      "execution_count": null,
      "outputs": [
        {
          "output_type": "stream",
          "name": "stdout",
          "text": [
            "Addition: 13\n",
            "Subtraction: 7\n",
            "Multiplication: 30\n",
            "Division: 3.3333333333333335\n",
            "Floor Division: 3\n",
            "Modulo: 1\n",
            "Exponent: 1000\n"
          ]
        }
      ]
    },
    {
      "cell_type": "markdown",
      "source": [
        "# **🏷️ 8️⃣ Operators: Comparison**"
      ],
      "metadata": {
        "id": "TgGhx7z4nmX2"
      }
    },
    {
      "cell_type": "code",
      "source": [
        "x = 5\n",
        "y = 10"
      ],
      "metadata": {
        "id": "qcVU3aNXMDCr"
      },
      "execution_count": null,
      "outputs": []
    },
    {
      "cell_type": "code",
      "source": [
        "x == y"
      ],
      "metadata": {
        "colab": {
          "base_uri": "https://localhost:8080/"
        },
        "id": "n4A7Zgt-MDqA",
        "outputId": "822adfe8-f4b1-4683-ed67-f6f71d2dff3b"
      },
      "execution_count": null,
      "outputs": [
        {
          "output_type": "execute_result",
          "data": {
            "text/plain": [
              "False"
            ]
          },
          "metadata": {},
          "execution_count": 213
        }
      ]
    },
    {
      "cell_type": "code",
      "source": [
        "x == 5 # comparison operator"
      ],
      "metadata": {
        "colab": {
          "base_uri": "https://localhost:8080/"
        },
        "id": "vz7r8V_WMLDS",
        "outputId": "edee7b2d-9938-43a2-ffcc-b97314b7ef68"
      },
      "execution_count": null,
      "outputs": [
        {
          "output_type": "execute_result",
          "data": {
            "text/plain": [
              "True"
            ]
          },
          "metadata": {},
          "execution_count": 214
        }
      ]
    },
    {
      "cell_type": "code",
      "source": [
        "x = 5 # assignment operator"
      ],
      "metadata": {
        "id": "EXrrC42UMPdI"
      },
      "execution_count": null,
      "outputs": []
    },
    {
      "cell_type": "code",
      "source": [
        "x, y"
      ],
      "metadata": {
        "colab": {
          "base_uri": "https://localhost:8080/"
        },
        "id": "ub7QVvrIMbRO",
        "outputId": "24a9c79b-9a37-4e94-b7d1-57084d048f7b"
      },
      "execution_count": null,
      "outputs": [
        {
          "output_type": "execute_result",
          "data": {
            "text/plain": [
              "(5, 10)"
            ]
          },
          "metadata": {},
          "execution_count": 215
        }
      ]
    },
    {
      "cell_type": "code",
      "source": [
        "x != y"
      ],
      "metadata": {
        "colab": {
          "base_uri": "https://localhost:8080/"
        },
        "id": "VusqFFOBMcZ0",
        "outputId": "192f720a-97e6-4f77-fc23-0eb571bbacbd"
      },
      "execution_count": null,
      "outputs": [
        {
          "output_type": "execute_result",
          "data": {
            "text/plain": [
              "True"
            ]
          },
          "metadata": {},
          "execution_count": 216
        }
      ]
    },
    {
      "cell_type": "code",
      "source": [
        "x > y"
      ],
      "metadata": {
        "colab": {
          "base_uri": "https://localhost:8080/"
        },
        "id": "BskkUHLrMf6F",
        "outputId": "d70fa67f-7859-4bbc-e814-5aaade08e0b4"
      },
      "execution_count": null,
      "outputs": [
        {
          "output_type": "execute_result",
          "data": {
            "text/plain": [
              "False"
            ]
          },
          "metadata": {},
          "execution_count": 217
        }
      ]
    },
    {
      "cell_type": "code",
      "source": [
        "x < y"
      ],
      "metadata": {
        "colab": {
          "base_uri": "https://localhost:8080/"
        },
        "id": "J3DAVUnoMihw",
        "outputId": "da3b97bc-bb5f-4913-8548-5bb8911db181"
      },
      "execution_count": null,
      "outputs": [
        {
          "output_type": "execute_result",
          "data": {
            "text/plain": [
              "True"
            ]
          },
          "metadata": {},
          "execution_count": 218
        }
      ]
    },
    {
      "cell_type": "code",
      "source": [
        "x >= y"
      ],
      "metadata": {
        "colab": {
          "base_uri": "https://localhost:8080/"
        },
        "id": "iLOkTelMMkgN",
        "outputId": "2994ed96-952a-4894-e5c1-ff2aab4b32f1"
      },
      "execution_count": null,
      "outputs": [
        {
          "output_type": "execute_result",
          "data": {
            "text/plain": [
              "False"
            ]
          },
          "metadata": {},
          "execution_count": 219
        }
      ]
    },
    {
      "cell_type": "code",
      "source": [
        "x <= y"
      ],
      "metadata": {
        "colab": {
          "base_uri": "https://localhost:8080/"
        },
        "id": "GSqpV1qBMm81",
        "outputId": "6c3103ae-ef0e-427d-ab74-94e5d5e3a33a"
      },
      "execution_count": null,
      "outputs": [
        {
          "output_type": "execute_result",
          "data": {
            "text/plain": [
              "True"
            ]
          },
          "metadata": {},
          "execution_count": 220
        }
      ]
    },
    {
      "cell_type": "code",
      "source": [
        "x"
      ],
      "metadata": {
        "colab": {
          "base_uri": "https://localhost:8080/"
        },
        "id": "JjVvRrQdMqJ_",
        "outputId": "201c1ee6-b892-487e-8a5b-9b93fb148aab"
      },
      "execution_count": null,
      "outputs": [
        {
          "output_type": "execute_result",
          "data": {
            "text/plain": [
              "5"
            ]
          },
          "metadata": {},
          "execution_count": 221
        }
      ]
    },
    {
      "cell_type": "code",
      "source": [
        "x<=6"
      ],
      "metadata": {
        "colab": {
          "base_uri": "https://localhost:8080/"
        },
        "id": "DRZje7PBMq0z",
        "outputId": "6f0a3a28-78a5-4e7d-97d7-bcdb339c7fb2"
      },
      "execution_count": null,
      "outputs": [
        {
          "output_type": "execute_result",
          "data": {
            "text/plain": [
              "True"
            ]
          },
          "metadata": {},
          "execution_count": 225
        }
      ]
    },
    {
      "cell_type": "code",
      "source": [
        "x<5"
      ],
      "metadata": {
        "colab": {
          "base_uri": "https://localhost:8080/"
        },
        "id": "r23Wtxj2MqxQ",
        "outputId": "3e1fab21-c407-4839-a754-6df117ccd9fa"
      },
      "execution_count": null,
      "outputs": [
        {
          "output_type": "execute_result",
          "data": {
            "text/plain": [
              "False"
            ]
          },
          "metadata": {},
          "execution_count": 226
        }
      ]
    },
    {
      "cell_type": "code",
      "source": [
        "x<=5"
      ],
      "metadata": {
        "colab": {
          "base_uri": "https://localhost:8080/"
        },
        "id": "c9a-UV4rMqsQ",
        "outputId": "35bdeea1-f0e6-4c8e-dd02-8b5b3847a846"
      },
      "execution_count": null,
      "outputs": [
        {
          "output_type": "execute_result",
          "data": {
            "text/plain": [
              "True"
            ]
          },
          "metadata": {},
          "execution_count": 227
        }
      ]
    },
    {
      "cell_type": "markdown",
      "source": [
        "# 🔍 Comparison Operators\n",
        "\n",
        "- `==` Equal to\n",
        "- `!=` Not equal to\n",
        "- `>` Greater than\n",
        "- `<` Less than\n",
        "- `>=` Greater than or equal to\n",
        "- `<=` Less than or equal to\n",
        "\n",
        "Returns `True` or `False`.\n",
        "\n",
        "Examples:"
      ],
      "metadata": {
        "id": "WDulOeU7nof-"
      }
    },
    {
      "cell_type": "code",
      "source": [
        "x = 5\n",
        "y = 10\n",
        "\n",
        "print(x == y)\n",
        "print(x != y)\n",
        "print(x > y)\n",
        "print(x < y)\n",
        "print(x >= 5)\n",
        "print(y <= 20)"
      ],
      "metadata": {
        "colab": {
          "base_uri": "https://localhost:8080/"
        },
        "id": "Cgo-ooQanAZ_",
        "outputId": "e646304b-4b48-46dc-bcb3-319709061b4e"
      },
      "execution_count": null,
      "outputs": [
        {
          "output_type": "stream",
          "name": "stdout",
          "text": [
            "False\n",
            "True\n",
            "False\n",
            "True\n",
            "True\n",
            "True\n"
          ]
        }
      ]
    },
    {
      "cell_type": "markdown",
      "source": [
        "# **🏷️ 9️⃣ Operators: Logical**"
      ],
      "metadata": {
        "id": "NqHZQzrZnsqe"
      }
    },
    {
      "cell_type": "code",
      "source": [
        "a = True\n",
        "b = False\n",
        "c = True"
      ],
      "metadata": {
        "id": "XYdTr1G7NGWY"
      },
      "execution_count": null,
      "outputs": []
    },
    {
      "cell_type": "code",
      "source": [
        "a, b"
      ],
      "metadata": {
        "colab": {
          "base_uri": "https://localhost:8080/"
        },
        "id": "yFQmJ6bVNI20",
        "outputId": "43635ca3-8da5-47ef-81cc-c31813143234"
      },
      "execution_count": null,
      "outputs": [
        {
          "output_type": "execute_result",
          "data": {
            "text/plain": [
              "(True, False)"
            ]
          },
          "metadata": {},
          "execution_count": 230
        }
      ]
    },
    {
      "cell_type": "code",
      "source": [
        "# and, or, not"
      ],
      "metadata": {
        "id": "cDxe-E-UNIzJ"
      },
      "execution_count": null,
      "outputs": []
    },
    {
      "cell_type": "code",
      "source": [
        "a and b and c"
      ],
      "metadata": {
        "colab": {
          "base_uri": "https://localhost:8080/"
        },
        "id": "F8zusyuJNItd",
        "outputId": "06075e18-a0f4-46bc-8b44-69dc484efe10"
      },
      "execution_count": null,
      "outputs": [
        {
          "output_type": "execute_result",
          "data": {
            "text/plain": [
              "False"
            ]
          },
          "metadata": {},
          "execution_count": 235
        }
      ]
    },
    {
      "cell_type": "code",
      "source": [
        "a or b or c"
      ],
      "metadata": {
        "colab": {
          "base_uri": "https://localhost:8080/"
        },
        "id": "O8GVcMsONSop",
        "outputId": "da9ff28d-8847-4e82-b365-d42dcb172b88"
      },
      "execution_count": null,
      "outputs": [
        {
          "output_type": "execute_result",
          "data": {
            "text/plain": [
              "True"
            ]
          },
          "metadata": {},
          "execution_count": 237
        }
      ]
    },
    {
      "cell_type": "code",
      "source": [
        "a and b"
      ],
      "metadata": {
        "colab": {
          "base_uri": "https://localhost:8080/"
        },
        "id": "uakJVqqDNwL0",
        "outputId": "db5d3668-7488-4445-8b38-97cf71f482e6"
      },
      "execution_count": null,
      "outputs": [
        {
          "output_type": "execute_result",
          "data": {
            "text/plain": [
              "False"
            ]
          },
          "metadata": {},
          "execution_count": 238
        }
      ]
    },
    {
      "cell_type": "code",
      "source": [
        "a and c"
      ],
      "metadata": {
        "colab": {
          "base_uri": "https://localhost:8080/"
        },
        "id": "qoIyzsLwNwDa",
        "outputId": "5d3373c4-2e8b-478e-86d1-2d6a5cdbec52"
      },
      "execution_count": null,
      "outputs": [
        {
          "output_type": "execute_result",
          "data": {
            "text/plain": [
              "True"
            ]
          },
          "metadata": {},
          "execution_count": 239
        }
      ]
    },
    {
      "cell_type": "code",
      "source": [
        "a or c"
      ],
      "metadata": {
        "colab": {
          "base_uri": "https://localhost:8080/"
        },
        "id": "GcV40IDFNv_v",
        "outputId": "1d89468d-b86c-4235-bd65-d068126d082c"
      },
      "execution_count": null,
      "outputs": [
        {
          "output_type": "execute_result",
          "data": {
            "text/plain": [
              "True"
            ]
          },
          "metadata": {},
          "execution_count": 240
        }
      ]
    },
    {
      "cell_type": "code",
      "source": [
        "a or b"
      ],
      "metadata": {
        "colab": {
          "base_uri": "https://localhost:8080/"
        },
        "id": "q7cZpI9oNv72",
        "outputId": "711ef2ff-0f9f-444b-8b3c-62b325c4460d"
      },
      "execution_count": null,
      "outputs": [
        {
          "output_type": "execute_result",
          "data": {
            "text/plain": [
              "True"
            ]
          },
          "metadata": {},
          "execution_count": 241
        }
      ]
    },
    {
      "cell_type": "code",
      "source": [
        "True and False or True"
      ],
      "metadata": {
        "colab": {
          "base_uri": "https://localhost:8080/"
        },
        "id": "al4t0FPJN9NA",
        "outputId": "a9df3c25-c1cd-4d58-8f63-ee70abb1b14b"
      },
      "execution_count": null,
      "outputs": [
        {
          "output_type": "execute_result",
          "data": {
            "text/plain": [
              "True"
            ]
          },
          "metadata": {},
          "execution_count": 242
        }
      ]
    },
    {
      "cell_type": "code",
      "source": [
        "True and True or True"
      ],
      "metadata": {
        "colab": {
          "base_uri": "https://localhost:8080/"
        },
        "id": "sRzeJ0zuN9Iu",
        "outputId": "acb2aa49-56c5-4812-e51c-8c8095ab93d1"
      },
      "execution_count": null,
      "outputs": [
        {
          "output_type": "execute_result",
          "data": {
            "text/plain": [
              "True"
            ]
          },
          "metadata": {},
          "execution_count": 243
        }
      ]
    },
    {
      "cell_type": "code",
      "source": [
        "True and True or False"
      ],
      "metadata": {
        "colab": {
          "base_uri": "https://localhost:8080/"
        },
        "id": "KX8od8oBN9FQ",
        "outputId": "535378dd-5bc1-4b2e-e398-ff7f86a38741"
      },
      "execution_count": null,
      "outputs": [
        {
          "output_type": "execute_result",
          "data": {
            "text/plain": [
              "True"
            ]
          },
          "metadata": {},
          "execution_count": 244
        }
      ]
    },
    {
      "cell_type": "code",
      "source": [
        "not(True and True or False and True and True or False)"
      ],
      "metadata": {
        "colab": {
          "base_uri": "https://localhost:8080/"
        },
        "id": "op5Q_30QOPHr",
        "outputId": "3a219978-f1c6-489f-f5c1-244773f2f0df"
      },
      "execution_count": null,
      "outputs": [
        {
          "output_type": "execute_result",
          "data": {
            "text/plain": [
              "False"
            ]
          },
          "metadata": {},
          "execution_count": 248
        }
      ]
    },
    {
      "cell_type": "code",
      "source": [
        "not(1 == 1)"
      ],
      "metadata": {
        "colab": {
          "base_uri": "https://localhost:8080/"
        },
        "id": "lXm39vwSOqOV",
        "outputId": "47d491c3-7bd6-454b-8913-bcc6bc305d60"
      },
      "execution_count": null,
      "outputs": [
        {
          "output_type": "execute_result",
          "data": {
            "text/plain": [
              "False"
            ]
          },
          "metadata": {},
          "execution_count": 250
        }
      ]
    },
    {
      "cell_type": "code",
      "source": [
        "3 == 1 or 3>2"
      ],
      "metadata": {
        "colab": {
          "base_uri": "https://localhost:8080/"
        },
        "id": "MtO_DakQOqLS",
        "outputId": "6845d6ae-560d-42e7-938f-2c5142fbdd5e"
      },
      "execution_count": null,
      "outputs": [
        {
          "output_type": "execute_result",
          "data": {
            "text/plain": [
              "True"
            ]
          },
          "metadata": {},
          "execution_count": 251
        }
      ]
    },
    {
      "cell_type": "markdown",
      "source": [
        "# 🔗 Logical Operators\n",
        "\n",
        "Used to combine conditions.\n",
        "\n",
        "- `and` True if both conditions are true.\n",
        "- `or` True if at least one condition is true.\n",
        "- `not` Inverts the condition.\n",
        "\n",
        "Examples:"
      ],
      "metadata": {
        "id": "HiPSa9I6n0v_"
      }
    },
    {
      "cell_type": "code",
      "source": [
        "a = True\n",
        "b = False\n",
        "\n",
        "print(\"a and b:\", a and b)\n",
        "print(\"a or b:\", a or b)\n",
        "print(\"not a:\", not a)"
      ],
      "metadata": {
        "colab": {
          "base_uri": "https://localhost:8080/"
        },
        "id": "jH0FZBN0nqLA",
        "outputId": "6a5c4b2e-ee02-4dd3-adb5-23417dbbd424"
      },
      "execution_count": null,
      "outputs": [
        {
          "output_type": "stream",
          "name": "stdout",
          "text": [
            "a and b: False\n",
            "a or b: True\n",
            "not a: False\n"
          ]
        }
      ]
    },
    {
      "cell_type": "markdown",
      "source": [
        "# **📚 🔟 Built-in Data Structures**"
      ],
      "metadata": {
        "id": "xWPioznRwKdW"
      }
    },
    {
      "cell_type": "code",
      "source": [
        "# int, float, str and bool"
      ],
      "metadata": {
        "id": "aKKgRtCRQASS"
      },
      "execution_count": null,
      "outputs": []
    },
    {
      "cell_type": "markdown",
      "source": [
        "# 📦 Python Data Structures\n",
        "\n",
        "Python's built-in containers: Lists, Tuples, Sets, Dictionaries."
      ],
      "metadata": {
        "id": "KXg5L51mwO2W"
      }
    },
    {
      "cell_type": "markdown",
      "source": [
        "# **✅ List**"
      ],
      "metadata": {
        "id": "W-jP1qXAwR2O"
      }
    },
    {
      "cell_type": "code",
      "source": [
        "type(greeting.split())"
      ],
      "metadata": {
        "colab": {
          "base_uri": "https://localhost:8080/"
        },
        "id": "QQNlEpnjQQxV",
        "outputId": "88268cf7-0346-4141-8633-2414ee3baacb"
      },
      "execution_count": null,
      "outputs": [
        {
          "output_type": "execute_result",
          "data": {
            "text/plain": [
              "list"
            ]
          },
          "metadata": {},
          "execution_count": 258
        }
      ]
    },
    {
      "cell_type": "markdown",
      "source": [
        "## 📋 List\n",
        "\n",
        "- Ordered, changeable, allows duplicates.\n",
        "\n",
        "Examples:"
      ],
      "metadata": {
        "id": "9b7XQXXhwVqd"
      }
    },
    {
      "cell_type": "code",
      "source": [
        "fruits = [\"apple\", \"banana\", \"mango\", 1, 1.1, True]"
      ],
      "metadata": {
        "id": "AD0P__D2QWlR"
      },
      "execution_count": null,
      "outputs": []
    },
    {
      "cell_type": "code",
      "source": [
        "fruits"
      ],
      "metadata": {
        "colab": {
          "base_uri": "https://localhost:8080/"
        },
        "id": "gXxOmf7CQXOP",
        "outputId": "cbd9da87-b431-4a7b-a810-4fc36fd58292"
      },
      "execution_count": null,
      "outputs": [
        {
          "output_type": "execute_result",
          "data": {
            "text/plain": [
              "['apple', 'banana', 'mango', 1, 1.1, True]"
            ]
          },
          "metadata": {},
          "execution_count": 272
        }
      ]
    },
    {
      "cell_type": "code",
      "source": [
        "len(fruits)"
      ],
      "metadata": {
        "colab": {
          "base_uri": "https://localhost:8080/"
        },
        "id": "4pYOTYhCQXLT",
        "outputId": "3a56c8a9-d7c9-4cb6-e8bd-65ebdcf83595"
      },
      "execution_count": null,
      "outputs": [
        {
          "output_type": "execute_result",
          "data": {
            "text/plain": [
              "6"
            ]
          },
          "metadata": {},
          "execution_count": 273
        }
      ]
    },
    {
      "cell_type": "code",
      "source": [
        "fruits"
      ],
      "metadata": {
        "colab": {
          "base_uri": "https://localhost:8080/"
        },
        "id": "tvTyc3Z6QqB8",
        "outputId": "df1d550d-d2c9-41dd-ef07-c0ba49577445"
      },
      "execution_count": null,
      "outputs": [
        {
          "output_type": "execute_result",
          "data": {
            "text/plain": [
              "['apple', 'banana', 'mango', 1, 1.1, True]"
            ]
          },
          "metadata": {},
          "execution_count": 274
        }
      ]
    },
    {
      "cell_type": "code",
      "source": [
        "'orange'"
      ],
      "metadata": {
        "colab": {
          "base_uri": "https://localhost:8080/",
          "height": 36
        },
        "id": "gbMmiwuCQXH9",
        "outputId": "9a135315-9314-455e-c27f-fdd078b0e144"
      },
      "execution_count": null,
      "outputs": [
        {
          "output_type": "execute_result",
          "data": {
            "text/plain": [
              "'orange'"
            ],
            "application/vnd.google.colaboratory.intrinsic+json": {
              "type": "string"
            }
          },
          "metadata": {},
          "execution_count": 275
        }
      ]
    },
    {
      "cell_type": "code",
      "source": [
        "fruits.append('orange')"
      ],
      "metadata": {
        "id": "dytXBtf0QXEe"
      },
      "execution_count": null,
      "outputs": []
    },
    {
      "cell_type": "code",
      "source": [
        "fruits"
      ],
      "metadata": {
        "colab": {
          "base_uri": "https://localhost:8080/"
        },
        "id": "3GZowruSQpQL",
        "outputId": "c386d4be-741a-482e-f13f-dd2d3119b99a"
      },
      "execution_count": null,
      "outputs": [
        {
          "output_type": "execute_result",
          "data": {
            "text/plain": [
              "['apple', 'banana', 'mango', 1, 1.1, True, 'orange']"
            ]
          },
          "metadata": {},
          "execution_count": 277
        }
      ]
    },
    {
      "cell_type": "code",
      "source": [
        "fruits.insert(3,'orange')"
      ],
      "metadata": {
        "id": "T0865jT9QpLq"
      },
      "execution_count": null,
      "outputs": []
    },
    {
      "cell_type": "code",
      "source": [
        "fruits"
      ],
      "metadata": {
        "colab": {
          "base_uri": "https://localhost:8080/"
        },
        "id": "v9PDGAKCQpHj",
        "outputId": "46357bd3-6cc8-4e89-b441-6775b025eb8b"
      },
      "execution_count": null,
      "outputs": [
        {
          "output_type": "execute_result",
          "data": {
            "text/plain": [
              "['apple', 'banana', 'mango', 'orange', 1, 1.1, True, 'orange']"
            ]
          },
          "metadata": {},
          "execution_count": 279
        }
      ]
    },
    {
      "cell_type": "code",
      "source": [
        "fruits.remove('orange')"
      ],
      "metadata": {
        "id": "rZJU1EWnRH-M"
      },
      "execution_count": null,
      "outputs": []
    },
    {
      "cell_type": "code",
      "source": [
        "fruits"
      ],
      "metadata": {
        "colab": {
          "base_uri": "https://localhost:8080/"
        },
        "id": "5hId5lpMRH54",
        "outputId": "0829c45f-632f-46e9-9d46-41503179c2d4"
      },
      "execution_count": null,
      "outputs": [
        {
          "output_type": "execute_result",
          "data": {
            "text/plain": [
              "['apple', 'banana', 'mango', 1, 1.1, True, 'orange']"
            ]
          },
          "metadata": {},
          "execution_count": 281
        }
      ]
    },
    {
      "cell_type": "code",
      "source": [
        "fruits.remove('orange')"
      ],
      "metadata": {
        "id": "Gc9fDXatRf07"
      },
      "execution_count": null,
      "outputs": []
    },
    {
      "cell_type": "code",
      "source": [
        "fruits"
      ],
      "metadata": {
        "colab": {
          "base_uri": "https://localhost:8080/"
        },
        "id": "bOqg-1jqRfxR",
        "outputId": "39c55540-d391-4dbb-bf1d-57a521aebf92"
      },
      "execution_count": null,
      "outputs": [
        {
          "output_type": "execute_result",
          "data": {
            "text/plain": [
              "['apple', 'banana', 'mango', 1, 1.1, True]"
            ]
          },
          "metadata": {},
          "execution_count": 283
        }
      ]
    },
    {
      "cell_type": "code",
      "source": [
        "fruits.pop(-1)"
      ],
      "metadata": {
        "colab": {
          "base_uri": "https://localhost:8080/"
        },
        "id": "p7iWHpZNRfuL",
        "outputId": "23a3d216-3a7e-409a-9c8a-8da1b4ab92aa"
      },
      "execution_count": null,
      "outputs": [
        {
          "output_type": "execute_result",
          "data": {
            "text/plain": [
              "True"
            ]
          },
          "metadata": {},
          "execution_count": 284
        }
      ]
    },
    {
      "cell_type": "code",
      "source": [
        "fruits"
      ],
      "metadata": {
        "colab": {
          "base_uri": "https://localhost:8080/"
        },
        "id": "rBkvQFEtRfrX",
        "outputId": "9ffbe284-083c-48d5-b0ef-ce5d7385e069"
      },
      "execution_count": null,
      "outputs": [
        {
          "output_type": "execute_result",
          "data": {
            "text/plain": [
              "['apple', 'banana', 'mango', 1, 1.1]"
            ]
          },
          "metadata": {},
          "execution_count": 285
        }
      ]
    },
    {
      "cell_type": "code",
      "source": [
        "fruits[::2]"
      ],
      "metadata": {
        "colab": {
          "base_uri": "https://localhost:8080/"
        },
        "id": "stVymAVOR1km",
        "outputId": "ed220eba-7c3f-4a9f-810c-2c2acf71b7fc"
      },
      "execution_count": null,
      "outputs": [
        {
          "output_type": "execute_result",
          "data": {
            "text/plain": [
              "['apple', 'mango', 1.1]"
            ]
          },
          "metadata": {},
          "execution_count": 296
        }
      ]
    },
    {
      "cell_type": "code",
      "source": [
        "# ['apple', 'mango', 1.1]"
      ],
      "metadata": {
        "id": "bSMxLVNySo7D"
      },
      "execution_count": null,
      "outputs": []
    },
    {
      "cell_type": "code",
      "source": [
        "# [1.1, 1, 'mango', , 'banana', 'apple' ]"
      ],
      "metadata": {
        "id": "6FELgztJR1gb"
      },
      "execution_count": null,
      "outputs": []
    },
    {
      "cell_type": "code",
      "source": [
        "list_1 =  ['grape', 'banana', 'mango', 'orange']"
      ],
      "metadata": {
        "id": "f6TMh-_sQpD1"
      },
      "execution_count": null,
      "outputs": []
    },
    {
      "cell_type": "code",
      "source": [
        "list_1.sort()"
      ],
      "metadata": {
        "id": "94XCirS7Tgns"
      },
      "execution_count": null,
      "outputs": []
    },
    {
      "cell_type": "code",
      "source": [
        "list_1"
      ],
      "metadata": {
        "colab": {
          "base_uri": "https://localhost:8080/"
        },
        "id": "BRIHduz8TsBl",
        "outputId": "7bf582a0-cc95-495f-d827-74ed335effe3"
      },
      "execution_count": null,
      "outputs": [
        {
          "output_type": "execute_result",
          "data": {
            "text/plain": [
              "['banana', 'grape', 'mango', 'orange']"
            ]
          },
          "metadata": {},
          "execution_count": 323
        }
      ]
    },
    {
      "cell_type": "code",
      "source": [
        "list_2 =  [45, 75, 1, 3, 32]"
      ],
      "metadata": {
        "id": "WB1xseHPUCf5"
      },
      "execution_count": null,
      "outputs": []
    },
    {
      "cell_type": "code",
      "source": [
        "list_2.sort()"
      ],
      "metadata": {
        "id": "zTwbQgF1UCcq"
      },
      "execution_count": null,
      "outputs": []
    },
    {
      "cell_type": "code",
      "source": [
        "list_2"
      ],
      "metadata": {
        "colab": {
          "base_uri": "https://localhost:8080/"
        },
        "id": "JoTdaVHdUCZN",
        "outputId": "aa0f0ed5-8887-4799-f1d2-261503225858"
      },
      "execution_count": null,
      "outputs": [
        {
          "output_type": "execute_result",
          "data": {
            "text/plain": [
              "[1, 3, 32, 45, 75]"
            ]
          },
          "metadata": {},
          "execution_count": 327
        }
      ]
    },
    {
      "cell_type": "code",
      "source": [
        "list_2[::-1]"
      ],
      "metadata": {
        "colab": {
          "base_uri": "https://localhost:8080/"
        },
        "id": "mi45s8VQUSnK",
        "outputId": "4f156cb5-dd27-4187-b042-049836a8b352"
      },
      "execution_count": null,
      "outputs": [
        {
          "output_type": "execute_result",
          "data": {
            "text/plain": [
              "[75, 45, 32, 3, 1]"
            ]
          },
          "metadata": {},
          "execution_count": 328
        }
      ]
    },
    {
      "cell_type": "code",
      "source": [
        "list_2.reverse()"
      ],
      "metadata": {
        "id": "yuRn4XcATXpn"
      },
      "execution_count": null,
      "outputs": []
    },
    {
      "cell_type": "code",
      "source": [
        "list_2"
      ],
      "metadata": {
        "colab": {
          "base_uri": "https://localhost:8080/"
        },
        "id": "VnMEaz9eUXOh",
        "outputId": "2fb76968-c931-44e7-c0d1-eb626e3b5313"
      },
      "execution_count": null,
      "outputs": [
        {
          "output_type": "execute_result",
          "data": {
            "text/plain": [
              "[75, 45, 32, 3, 1]"
            ]
          },
          "metadata": {},
          "execution_count": 330
        }
      ]
    },
    {
      "cell_type": "code",
      "source": [
        "fruits = [\"apple\", \"banana\", \"mango\"]\n",
        "print(fruits) # ['apple', 'banana', 'mango']\n",
        "print(len(fruits))      # 3\n",
        "\n",
        "\n",
        "fruits.append(\"orange\")\n",
        "print(fruits)           # ['apple', 'banana', 'mango', 'orange']\n",
        "\n",
        "fruits.insert(1, \"grape\")\n",
        "print(fruits)           # ['apple', 'grape', 'banana', 'mango', 'orange']\n",
        "\n",
        "fruits.remove(\"apple\")\n",
        "print(fruits)           # ['grape', 'banana', 'mango', 'orange']\n",
        "\n",
        "print(fruits.pop(0))    # 'grape'\n",
        "print(fruits)           # ['banana', 'mango', 'orange']\n",
        "\n",
        "fruits.sort()\n",
        "print(fruits)           # ['banana', 'mango', 'orange']\n",
        "\n",
        "fruits.reverse()\n",
        "print(fruits)           # ['orange', 'mango', 'banana']"
      ],
      "metadata": {
        "colab": {
          "base_uri": "https://localhost:8080/"
        },
        "id": "16rwqoPtwVX1",
        "outputId": "b3f2cc3e-972b-4715-8659-2aa71e86819b"
      },
      "execution_count": null,
      "outputs": [
        {
          "output_type": "stream",
          "name": "stdout",
          "text": [
            "['apple', 'banana', 'mango']\n",
            "3\n",
            "['apple', 'banana', 'mango', 'orange']\n",
            "['apple', 'grape', 'banana', 'mango', 'orange']\n",
            "['grape', 'banana', 'mango', 'orange']\n",
            "grape\n",
            "['banana', 'mango', 'orange']\n",
            "['banana', 'mango', 'orange']\n",
            "['orange', 'mango', 'banana']\n"
          ]
        }
      ]
    },
    {
      "cell_type": "markdown",
      "source": [
        "# **✅ Tuple**\n",
        "\n",
        "## 🔒 Tuple\n",
        "\n",
        "- Ordered, **unchangeable**, allows duplicates.\n",
        "\n",
        "Examples:"
      ],
      "metadata": {
        "id": "0rQrCpkmwVEf"
      }
    },
    {
      "cell_type": "code",
      "source": [
        "account_no = ['12345', '39134', 132312]"
      ],
      "metadata": {
        "id": "3tL89yC1Upkm"
      },
      "execution_count": 10,
      "outputs": []
    },
    {
      "cell_type": "code",
      "source": [
        "account_no[1] = '11111'"
      ],
      "metadata": {
        "id": "DIoRMzEvUphZ"
      },
      "execution_count": 11,
      "outputs": []
    },
    {
      "cell_type": "code",
      "source": [
        "account_no"
      ],
      "metadata": {
        "colab": {
          "base_uri": "https://localhost:8080/"
        },
        "id": "iOp8jVBgUpeH",
        "outputId": "103c1190-4df4-4aa8-d24c-f3003b1d6b03"
      },
      "execution_count": 12,
      "outputs": [
        {
          "output_type": "execute_result",
          "data": {
            "text/plain": [
              "['12345', '11111', 132312]"
            ]
          },
          "metadata": {},
          "execution_count": 12
        }
      ]
    },
    {
      "cell_type": "code",
      "source": [
        "tup = ('12345', '39134', 132312)"
      ],
      "metadata": {
        "id": "eaKxRB4pU0Zw"
      },
      "execution_count": 13,
      "outputs": []
    },
    {
      "cell_type": "code",
      "source": [
        "type(tup)"
      ],
      "metadata": {
        "colab": {
          "base_uri": "https://localhost:8080/"
        },
        "id": "mt-U8d1mU0Uj",
        "outputId": "f4fb91bc-32f4-4afb-c788-ae38be3606cc"
      },
      "execution_count": 14,
      "outputs": [
        {
          "output_type": "execute_result",
          "data": {
            "text/plain": [
              "tuple"
            ]
          },
          "metadata": {},
          "execution_count": 14
        }
      ]
    },
    {
      "cell_type": "code",
      "source": [
        "tup[1] = '11111'"
      ],
      "metadata": {
        "id": "bLFXpmLiU_vY",
        "colab": {
          "base_uri": "https://localhost:8080/",
          "height": 141
        },
        "outputId": "8c0e92bd-f752-4d0a-92b4-ea2169e3eaa7"
      },
      "execution_count": 15,
      "outputs": [
        {
          "output_type": "error",
          "ename": "TypeError",
          "evalue": "'tuple' object does not support item assignment",
          "traceback": [
            "\u001b[0;31m---------------------------------------------------------------------------\u001b[0m",
            "\u001b[0;31mTypeError\u001b[0m                                 Traceback (most recent call last)",
            "\u001b[0;32m/tmp/ipython-input-15-3295477793.py\u001b[0m in \u001b[0;36m<cell line: 0>\u001b[0;34m()\u001b[0m\n\u001b[0;32m----> 1\u001b[0;31m \u001b[0mtup\u001b[0m\u001b[0;34m[\u001b[0m\u001b[0;36m1\u001b[0m\u001b[0;34m]\u001b[0m \u001b[0;34m=\u001b[0m \u001b[0;34m'11111'\u001b[0m\u001b[0;34m\u001b[0m\u001b[0;34m\u001b[0m\u001b[0m\n\u001b[0m",
            "\u001b[0;31mTypeError\u001b[0m: 'tuple' object does not support item assignment"
          ]
        }
      ]
    },
    {
      "cell_type": "code",
      "source": [
        "tup[0:]"
      ],
      "metadata": {
        "colab": {
          "base_uri": "https://localhost:8080/"
        },
        "id": "aZe33I39VJHj",
        "outputId": "d83a36f7-19d5-4574-f271-c13faf0d77a7"
      },
      "execution_count": 16,
      "outputs": [
        {
          "output_type": "execute_result",
          "data": {
            "text/plain": [
              "('12345', '39134', 132312)"
            ]
          },
          "metadata": {},
          "execution_count": 16
        }
      ]
    },
    {
      "cell_type": "code",
      "source": [
        "len(tup)"
      ],
      "metadata": {
        "colab": {
          "base_uri": "https://localhost:8080/"
        },
        "id": "sbyMet7ZVJEw",
        "outputId": "5a6cb730-e8ff-449e-ffb8-73847807b0ac"
      },
      "execution_count": null,
      "outputs": [
        {
          "output_type": "execute_result",
          "data": {
            "text/plain": [
              "3"
            ]
          },
          "metadata": {},
          "execution_count": 31
        }
      ]
    },
    {
      "cell_type": "code",
      "source": [
        "tup = [1,1,1,11,1,11,1]"
      ],
      "metadata": {
        "id": "U7PnBhh2VTNk"
      },
      "execution_count": null,
      "outputs": []
    },
    {
      "cell_type": "code",
      "source": [
        "tup = ['raja', 'ravi', 'ram']"
      ],
      "metadata": {
        "id": "w2122YRVVkru"
      },
      "execution_count": null,
      "outputs": []
    },
    {
      "cell_type": "code",
      "source": [
        "tup.index('ram')"
      ],
      "metadata": {
        "colab": {
          "base_uri": "https://localhost:8080/"
        },
        "id": "XDqn9JSQVJBG",
        "outputId": "2e6c4dbe-9d1b-4993-8f05-45a2b74a505b"
      },
      "execution_count": null,
      "outputs": [
        {
          "output_type": "execute_result",
          "data": {
            "text/plain": [
              "2"
            ]
          },
          "metadata": {},
          "execution_count": 34
        }
      ]
    },
    {
      "cell_type": "code",
      "source": [
        "point = (10, 20, 10)\n",
        "print(point)\n",
        "\n",
        "# Accessing\n",
        "print(point[0])\n",
        "\n",
        "# Can't change:\n",
        "# point[0] = 5  # 🚫 Will raise error\n",
        "\n",
        "print(len(point))       # 3\n",
        "print(point.count(10))  # 2\n",
        "print(point.index(20))  # 1"
      ],
      "metadata": {
        "colab": {
          "base_uri": "https://localhost:8080/"
        },
        "id": "CYTfdnjAwQF2",
        "outputId": "b1730285-e674-4406-eab7-33ab37305c17"
      },
      "execution_count": null,
      "outputs": [
        {
          "output_type": "stream",
          "name": "stdout",
          "text": [
            "(10, 20, 10)\n",
            "10\n",
            "3\n",
            "2\n",
            "1\n"
          ]
        }
      ]
    },
    {
      "cell_type": "markdown",
      "source": [
        "# **✅ Set**\n",
        "\n",
        "## 🗂️ Set\n",
        "\n",
        "- Unordered, **no duplicates**, fast membership test.\n",
        "\n",
        "Examples:\n"
      ],
      "metadata": {
        "id": "542wRPdhwgrm"
      }
    },
    {
      "cell_type": "code",
      "source": [
        "set_1 = {1, 2, 'yes', 'no','yes'}"
      ],
      "metadata": {
        "id": "25DvzcOaWBbU"
      },
      "execution_count": null,
      "outputs": []
    },
    {
      "cell_type": "code",
      "source": [
        "set_1"
      ],
      "metadata": {
        "colab": {
          "base_uri": "https://localhost:8080/"
        },
        "id": "idTq1TClWIZX",
        "outputId": "d6e0449b-76e6-4268-bef4-ab88bf13dea8"
      },
      "execution_count": null,
      "outputs": [
        {
          "output_type": "execute_result",
          "data": {
            "text/plain": [
              "{1, 2, 'no', 'yes'}"
            ]
          },
          "metadata": {},
          "execution_count": 37
        }
      ]
    },
    {
      "cell_type": "code",
      "source": [
        "# password - Tuples\n",
        "# stu_name - list\n",
        "# rollno - set"
      ],
      "metadata": {
        "id": "BmBqbWC7WvCN"
      },
      "execution_count": null,
      "outputs": []
    },
    {
      "cell_type": "code",
      "source": [
        "colors = {\"red\", \"green\", \"blue\"}\n",
        "print(colors)\n",
        "\n",
        "colors.add(\"yellow\")\n",
        "print(colors)\n",
        "\n",
        "colors.remove(\"red\")\n",
        "print(colors)\n",
        "\n",
        "# Duplicate won't be added:\n",
        "colors.add(\"blue\")\n",
        "print(colors)"
      ],
      "metadata": {
        "colab": {
          "base_uri": "https://localhost:8080/"
        },
        "id": "IdCQ1rZywQCN",
        "outputId": "e6fad98a-6ecb-40ef-9e54-fc2342fcd710"
      },
      "execution_count": null,
      "outputs": [
        {
          "output_type": "stream",
          "name": "stdout",
          "text": [
            "{'blue', 'green', 'red'}\n",
            "{'blue', 'green', 'red', 'yellow'}\n",
            "{'blue', 'green', 'yellow'}\n",
            "{'blue', 'green', 'yellow'}\n"
          ]
        }
      ]
    },
    {
      "cell_type": "code",
      "source": [
        "colors"
      ],
      "metadata": {
        "colab": {
          "base_uri": "https://localhost:8080/"
        },
        "id": "bJud4lmnW_Rq",
        "outputId": "40935a43-5cf0-4da3-cd21-ccbbe092661c"
      },
      "execution_count": null,
      "outputs": [
        {
          "output_type": "execute_result",
          "data": {
            "text/plain": [
              "{'blue', 'green', 'yellow'}"
            ]
          },
          "metadata": {},
          "execution_count": 40
        }
      ]
    },
    {
      "cell_type": "code",
      "source": [
        "# Safe remove:\n",
        "colors.discard(\"pink\")  # Won't error"
      ],
      "metadata": {
        "id": "JykoqTcXy0Y9"
      },
      "execution_count": null,
      "outputs": []
    },
    {
      "cell_type": "code",
      "source": [
        "colors"
      ],
      "metadata": {
        "colab": {
          "base_uri": "https://localhost:8080/"
        },
        "id": "hNciK0GQzPX9",
        "outputId": "480eb0ad-4ad7-4695-891a-1077a846a1e6"
      },
      "execution_count": null,
      "outputs": [
        {
          "output_type": "execute_result",
          "data": {
            "text/plain": [
              "{'blue', 'green', 'yellow'}"
            ]
          },
          "metadata": {},
          "execution_count": 42
        }
      ]
    },
    {
      "cell_type": "code",
      "source": [
        "more_colors = {\"green\", \"pink\"}"
      ],
      "metadata": {
        "id": "oRjZZ8PUz-9F"
      },
      "execution_count": null,
      "outputs": []
    },
    {
      "cell_type": "code",
      "source": [
        "more_colors"
      ],
      "metadata": {
        "colab": {
          "base_uri": "https://localhost:8080/"
        },
        "id": "D8j22sW5zQxt",
        "outputId": "6b668496-67a8-44f9-fb00-306b7a69886a"
      },
      "execution_count": null,
      "outputs": [
        {
          "output_type": "execute_result",
          "data": {
            "text/plain": [
              "{'green', 'pink'}"
            ]
          },
          "metadata": {},
          "execution_count": 45
        }
      ]
    },
    {
      "cell_type": "code",
      "source": [
        "colors"
      ],
      "metadata": {
        "colab": {
          "base_uri": "https://localhost:8080/"
        },
        "id": "U8jU8cTcXL3M",
        "outputId": "f8be2e22-7471-46f3-e2dc-0b6c1115d267"
      },
      "execution_count": null,
      "outputs": [
        {
          "output_type": "execute_result",
          "data": {
            "text/plain": [
              "{'blue', 'green', 'yellow'}"
            ]
          },
          "metadata": {},
          "execution_count": 46
        }
      ]
    },
    {
      "cell_type": "code",
      "source": [
        "more_colors"
      ],
      "metadata": {
        "colab": {
          "base_uri": "https://localhost:8080/"
        },
        "id": "qJ5X7OfhXLzZ",
        "outputId": "8d24d1d1-78f8-4522-b394-b2bfc5e61f9f"
      },
      "execution_count": null,
      "outputs": [
        {
          "output_type": "execute_result",
          "data": {
            "text/plain": [
              "{'green', 'pink'}"
            ]
          },
          "metadata": {},
          "execution_count": 47
        }
      ]
    },
    {
      "cell_type": "code",
      "source": [
        "colors.union(more_colors)"
      ],
      "metadata": {
        "colab": {
          "base_uri": "https://localhost:8080/"
        },
        "id": "7NB3j6rxXLwC",
        "outputId": "dea810d6-336a-4a89-885a-59ceeea074ee"
      },
      "execution_count": null,
      "outputs": [
        {
          "output_type": "execute_result",
          "data": {
            "text/plain": [
              "{'blue', 'green', 'pink', 'yellow'}"
            ]
          },
          "metadata": {},
          "execution_count": 48
        }
      ]
    },
    {
      "cell_type": "code",
      "source": [
        "colors.intersection(more_colors)"
      ],
      "metadata": {
        "colab": {
          "base_uri": "https://localhost:8080/"
        },
        "id": "eHIU1RuGXQNy",
        "outputId": "246a4de8-2bb6-449a-a1ee-fbea899bbffc"
      },
      "execution_count": null,
      "outputs": [
        {
          "output_type": "execute_result",
          "data": {
            "text/plain": [
              "{'green'}"
            ]
          },
          "metadata": {},
          "execution_count": 49
        }
      ]
    },
    {
      "cell_type": "code",
      "source": [
        "colors.difference(more_colors)"
      ],
      "metadata": {
        "colab": {
          "base_uri": "https://localhost:8080/"
        },
        "id": "mEbYFStbXQJ-",
        "outputId": "b0ae37f1-82a3-4dc7-f6a4-1c034a33cd40"
      },
      "execution_count": null,
      "outputs": [
        {
          "output_type": "execute_result",
          "data": {
            "text/plain": [
              "{'blue', 'yellow'}"
            ]
          },
          "metadata": {},
          "execution_count": 50
        }
      ]
    },
    {
      "cell_type": "code",
      "source": [
        "print(colors.union(more_colors))\n",
        "print(colors.intersection(more_colors))\n",
        "print(colors.difference(more_colors))"
      ],
      "metadata": {
        "colab": {
          "base_uri": "https://localhost:8080/"
        },
        "id": "BZ8-eRvvy4v1",
        "outputId": "3e97934f-6d4e-4233-fb11-a923ff6866ff"
      },
      "execution_count": null,
      "outputs": [
        {
          "output_type": "stream",
          "name": "stdout",
          "text": [
            "{'blue', 'pink', 'green', 'yellow'}\n",
            "{'green'}\n",
            "{'blue', 'yellow'}\n"
          ]
        }
      ]
    },
    {
      "cell_type": "markdown",
      "source": [
        "# **✅ Dictionary**\n",
        "\n",
        "## 📖 Dictionary\n",
        "\n",
        "- Key-value pairs.\n",
        "- Unordered (Python 3.7+ keeps insertion order).\n",
        "\n",
        "Examples:"
      ],
      "metadata": {
        "id": "Tq5qfFV8wm3N"
      }
    },
    {
      "cell_type": "code",
      "source": [
        "student = {\n",
        "    \"name\": \"Alice\",\n",
        "    \"age\": 20,\n",
        "    \"marks\": [90, 85, 88]\n",
        "}"
      ],
      "metadata": {
        "id": "EKJJ7GoGYDKv"
      },
      "execution_count": null,
      "outputs": []
    },
    {
      "cell_type": "code",
      "source": [
        "type(student)"
      ],
      "metadata": {
        "colab": {
          "base_uri": "https://localhost:8080/"
        },
        "id": "T_ovNCahYDHZ",
        "outputId": "77dc0093-9ae4-48c0-d852-99ac229f9302"
      },
      "execution_count": null,
      "outputs": [
        {
          "output_type": "execute_result",
          "data": {
            "text/plain": [
              "dict"
            ]
          },
          "metadata": {},
          "execution_count": 53
        }
      ]
    },
    {
      "cell_type": "code",
      "source": [
        "student"
      ],
      "metadata": {
        "colab": {
          "base_uri": "https://localhost:8080/"
        },
        "id": "rDkXp7Y-Yc-2",
        "outputId": "ad2c3ebf-c500-4e52-86fd-07aee484f015"
      },
      "execution_count": null,
      "outputs": [
        {
          "output_type": "execute_result",
          "data": {
            "text/plain": [
              "{'name': 'Alice', 'age': 20, 'marks': [90, 85, 88]}"
            ]
          },
          "metadata": {},
          "execution_count": 54
        }
      ]
    },
    {
      "cell_type": "code",
      "source": [
        "student['name']"
      ],
      "metadata": {
        "colab": {
          "base_uri": "https://localhost:8080/",
          "height": 36
        },
        "id": "27nS4DvsYDDb",
        "outputId": "c2274eff-6723-4100-8b7a-fde32a52ed8a"
      },
      "execution_count": null,
      "outputs": [
        {
          "output_type": "execute_result",
          "data": {
            "text/plain": [
              "'Alice'"
            ],
            "application/vnd.google.colaboratory.intrinsic+json": {
              "type": "string"
            }
          },
          "metadata": {},
          "execution_count": 55
        }
      ]
    },
    {
      "cell_type": "code",
      "source": [
        "type(student['marks'])"
      ],
      "metadata": {
        "colab": {
          "base_uri": "https://localhost:8080/"
        },
        "id": "8BwrHRy_YN21",
        "outputId": "2e91805e-e233-4b03-976c-6bb38b8e999c"
      },
      "execution_count": null,
      "outputs": [
        {
          "output_type": "execute_result",
          "data": {
            "text/plain": [
              "list"
            ]
          },
          "metadata": {},
          "execution_count": 56
        }
      ]
    },
    {
      "cell_type": "code",
      "source": [
        "student"
      ],
      "metadata": {
        "colab": {
          "base_uri": "https://localhost:8080/"
        },
        "id": "VBrGacV6YNz1",
        "outputId": "2632d08a-6adb-48a7-d252-5f1f8e38f384"
      },
      "execution_count": null,
      "outputs": [
        {
          "output_type": "execute_result",
          "data": {
            "text/plain": [
              "{'name': 'Alice', 'age': 20, 'marks': [90, 85, 88]}"
            ]
          },
          "metadata": {},
          "execution_count": 57
        }
      ]
    },
    {
      "cell_type": "code",
      "source": [
        "student['age'] = 21"
      ],
      "metadata": {
        "id": "BdwGOVqjYNwC"
      },
      "execution_count": null,
      "outputs": []
    },
    {
      "cell_type": "code",
      "source": [
        "student"
      ],
      "metadata": {
        "colab": {
          "base_uri": "https://localhost:8080/"
        },
        "id": "d43V_L-vZLrC",
        "outputId": "f20bd180-27ba-40e7-968a-a68fcbfb3804"
      },
      "execution_count": null,
      "outputs": [
        {
          "output_type": "execute_result",
          "data": {
            "text/plain": [
              "{'name': 'Alice', 'age': 21, 'marks': [90, 85, 88]}"
            ]
          },
          "metadata": {},
          "execution_count": 59
        }
      ]
    },
    {
      "cell_type": "code",
      "source": [
        "len(student)"
      ],
      "metadata": {
        "colab": {
          "base_uri": "https://localhost:8080/"
        },
        "id": "QtlCiQ2CZLnt",
        "outputId": "a4b20de8-6bfe-4dc9-e48d-9aaf3ad3ad08"
      },
      "execution_count": null,
      "outputs": [
        {
          "output_type": "execute_result",
          "data": {
            "text/plain": [
              "3"
            ]
          },
          "metadata": {},
          "execution_count": 60
        }
      ]
    },
    {
      "cell_type": "code",
      "source": [
        "student.keys()"
      ],
      "metadata": {
        "colab": {
          "base_uri": "https://localhost:8080/"
        },
        "id": "NxDJCjweZLlX",
        "outputId": "5bdc58ca-a4d5-4bee-f5c8-5056177abc70"
      },
      "execution_count": null,
      "outputs": [
        {
          "output_type": "execute_result",
          "data": {
            "text/plain": [
              "dict_keys(['name', 'age', 'marks'])"
            ]
          },
          "metadata": {},
          "execution_count": 61
        }
      ]
    },
    {
      "cell_type": "code",
      "source": [
        "student.values()"
      ],
      "metadata": {
        "colab": {
          "base_uri": "https://localhost:8080/"
        },
        "id": "95NPwgOuZLig",
        "outputId": "d5ebb5a5-f262-4592-85a6-82229e1a519f"
      },
      "execution_count": null,
      "outputs": [
        {
          "output_type": "execute_result",
          "data": {
            "text/plain": [
              "dict_values(['Alice', 21, [90, 85, 88]])"
            ]
          },
          "metadata": {},
          "execution_count": 62
        }
      ]
    },
    {
      "cell_type": "code",
      "source": [
        "student.values()"
      ],
      "metadata": {
        "colab": {
          "base_uri": "https://localhost:8080/"
        },
        "id": "coQ4AVBUZbPt",
        "outputId": "2dabbfb2-c5e2-42dc-a143-309200859e35"
      },
      "execution_count": null,
      "outputs": [
        {
          "output_type": "execute_result",
          "data": {
            "text/plain": [
              "dict_values(['Alice', 21, [90, 85, 88]])"
            ]
          },
          "metadata": {},
          "execution_count": 63
        }
      ]
    },
    {
      "cell_type": "code",
      "source": [
        "list(student.values())[0]"
      ],
      "metadata": {
        "colab": {
          "base_uri": "https://localhost:8080/",
          "height": 36
        },
        "id": "mWiyEKjGZ5hY",
        "outputId": "b9323025-f538-42b5-8f3b-87c90844bde0"
      },
      "execution_count": null,
      "outputs": [
        {
          "output_type": "execute_result",
          "data": {
            "text/plain": [
              "'Alice'"
            ],
            "application/vnd.google.colaboratory.intrinsic+json": {
              "type": "string"
            }
          },
          "metadata": {},
          "execution_count": 64
        }
      ]
    },
    {
      "cell_type": "code",
      "source": [
        "['Alice', 21, [90, 85, 88]]"
      ],
      "metadata": {
        "colab": {
          "base_uri": "https://localhost:8080/"
        },
        "id": "BHqdf8cRZ19R",
        "outputId": "c8ca6676-5490-418a-9f21-75c31c63fbdf"
      },
      "execution_count": null,
      "outputs": [
        {
          "output_type": "execute_result",
          "data": {
            "text/plain": [
              "['Alice', 21, [90, 85, 88]]"
            ]
          },
          "metadata": {},
          "execution_count": 65
        }
      ]
    },
    {
      "cell_type": "code",
      "source": [
        "student.get(\"name\")"
      ],
      "metadata": {
        "colab": {
          "base_uri": "https://localhost:8080/",
          "height": 36
        },
        "id": "kAZjHzjOaCSJ",
        "outputId": "42e085a1-1d78-40bc-83e0-654767a82925"
      },
      "execution_count": null,
      "outputs": [
        {
          "output_type": "execute_result",
          "data": {
            "text/plain": [
              "'Alice'"
            ],
            "application/vnd.google.colaboratory.intrinsic+json": {
              "type": "string"
            }
          },
          "metadata": {},
          "execution_count": 66
        }
      ]
    },
    {
      "cell_type": "code",
      "source": [
        "student['age'] = 21"
      ],
      "metadata": {
        "id": "3drhkLyQaOF_"
      },
      "execution_count": null,
      "outputs": []
    },
    {
      "cell_type": "code",
      "source": [
        "student.update({\"age\": \"20\"})"
      ],
      "metadata": {
        "id": "2VYy3sjcaCLo"
      },
      "execution_count": null,
      "outputs": []
    },
    {
      "cell_type": "code",
      "source": [
        "student"
      ],
      "metadata": {
        "colab": {
          "base_uri": "https://localhost:8080/"
        },
        "id": "QRC8BC3xZbIk",
        "outputId": "5cb3f891-5300-4f14-fef0-af4843f90f23"
      },
      "execution_count": null,
      "outputs": [
        {
          "output_type": "execute_result",
          "data": {
            "text/plain": [
              "{'name': 'Alice', 'age': '20', 'marks': [90, 85, 88]}"
            ]
          },
          "metadata": {},
          "execution_count": 69
        }
      ]
    },
    {
      "cell_type": "code",
      "source": [
        "student.pop('age')"
      ],
      "metadata": {
        "colab": {
          "base_uri": "https://localhost:8080/",
          "height": 36
        },
        "id": "dhICgzfbaS72",
        "outputId": "e36bab82-885f-4b7e-d878-a4aafe419338"
      },
      "execution_count": null,
      "outputs": [
        {
          "output_type": "execute_result",
          "data": {
            "text/plain": [
              "'20'"
            ],
            "application/vnd.google.colaboratory.intrinsic+json": {
              "type": "string"
            }
          },
          "metadata": {},
          "execution_count": 70
        }
      ]
    },
    {
      "cell_type": "code",
      "source": [
        "student"
      ],
      "metadata": {
        "colab": {
          "base_uri": "https://localhost:8080/"
        },
        "id": "nNwUgAVsaS4F",
        "outputId": "e7bac64b-89e4-45b4-db35-68a55c35a1f4"
      },
      "execution_count": null,
      "outputs": [
        {
          "output_type": "execute_result",
          "data": {
            "text/plain": [
              "{'name': 'Alice', 'marks': [90, 85, 88]}"
            ]
          },
          "metadata": {},
          "execution_count": 71
        }
      ]
    },
    {
      "cell_type": "code",
      "source": [
        "student['grade'] = 'S'"
      ],
      "metadata": {
        "id": "K1tIUQyZazdR"
      },
      "execution_count": null,
      "outputs": []
    },
    {
      "cell_type": "code",
      "source": [
        "student"
      ],
      "metadata": {
        "colab": {
          "base_uri": "https://localhost:8080/"
        },
        "id": "Cdm-v-RhazZ_",
        "outputId": "8d0ba4dd-6389-4ea4-90f3-81ed90cfa317"
      },
      "execution_count": null,
      "outputs": [
        {
          "output_type": "execute_result",
          "data": {
            "text/plain": [
              "{'name': 'Alice', 'marks': [90, 85, 88], 'grade': 'S'}"
            ]
          },
          "metadata": {},
          "execution_count": 73
        }
      ]
    },
    {
      "cell_type": "code",
      "source": [
        "student['age'] = 21"
      ],
      "metadata": {
        "id": "i-pMFen4azWb"
      },
      "execution_count": null,
      "outputs": []
    },
    {
      "cell_type": "code",
      "source": [
        "student"
      ],
      "metadata": {
        "colab": {
          "base_uri": "https://localhost:8080/"
        },
        "id": "qiGR_XB6aS0n",
        "outputId": "78fe58a0-ed77-4ebb-816d-77a589340de1"
      },
      "execution_count": null,
      "outputs": [
        {
          "output_type": "execute_result",
          "data": {
            "text/plain": [
              "{'name': 'Alice', 'marks': [90, 85, 88], 'grade': 'S', 'age': 21}"
            ]
          },
          "metadata": {},
          "execution_count": 75
        }
      ]
    },
    {
      "cell_type": "code",
      "source": [
        "student = {\n",
        "    \"name\": \"Alice\",\n",
        "    \"age\": 20,\n",
        "    \"marks\": [90, 85, 88]\n",
        "}\n",
        "print(student)\n",
        "\n",
        "print(student[\"name\"])\n",
        "student[\"age\"] = 21\n",
        "print(student)\n",
        "\n",
        "student[\"grade\"] = \"A\"\n",
        "print(student)\n",
        "\n",
        "\n",
        "print(len(student))\n",
        "print(student.keys())\n",
        "print(student.values())\n",
        "print(student.items())\n",
        "\n",
        "print(student.get(\"name\"))\n",
        "student.update({\"Class\": \"1\"})\n",
        "print(student)\n",
        "\n",
        "student.pop(\"age\")\n",
        "print(student)"
      ],
      "metadata": {
        "colab": {
          "base_uri": "https://localhost:8080/"
        },
        "id": "i0kToeLvwP_e",
        "outputId": "9ed0d4a4-0613-454e-a5d5-d2fc6f37b6ee"
      },
      "execution_count": null,
      "outputs": [
        {
          "output_type": "stream",
          "name": "stdout",
          "text": [
            "{'name': 'Alice', 'age': 20, 'marks': [90, 85, 88]}\n",
            "Alice\n",
            "{'name': 'Alice', 'age': 21, 'marks': [90, 85, 88]}\n",
            "{'name': 'Alice', 'age': 21, 'marks': [90, 85, 88], 'grade': 'A'}\n",
            "4\n",
            "dict_keys(['name', 'age', 'marks', 'grade'])\n",
            "dict_values(['Alice', 21, [90, 85, 88], 'A'])\n",
            "dict_items([('name', 'Alice'), ('age', 21), ('marks', [90, 85, 88]), ('grade', 'A')])\n",
            "Alice\n",
            "{'name': 'Alice', 'age': 21, 'marks': [90, 85, 88], 'grade': 'A', 'Class': '1'}\n",
            "{'name': 'Alice', 'marks': [90, 85, 88], 'grade': 'A', 'Class': '1'}\n"
          ]
        }
      ]
    },
    {
      "cell_type": "markdown",
      "source": [
        "# **🏷️ 1️⃣1️⃣ Practice Exercises**"
      ],
      "metadata": {
        "id": "jErJCe5qn5m9"
      }
    },
    {
      "cell_type": "markdown",
      "source": [
        "# 🎯 Practice\n",
        "\n",
        "✅ Create variables for your:\n",
        "  - name (string)\n",
        "  - age (integer)\n",
        "  - height (float)\n",
        "  - is_student (boolean)\n",
        "\n",
        "✅ Perform:\n",
        "  - Addition of age + 5\n",
        "  - Check if age > 18\n",
        "  - Use `and` to check: is age > 18 AND is_student\n",
        "\n",
        "✅ Convert height to string and print type.\n",
        "\n",
        "✅ Create a list of 5 cities. Add 2 more, remove 1. Print the final list.\n",
        "\n",
        "✅ Create a tuple of 3 numbers. Access the second number.\n",
        "\n",
        "✅ Make a set of your hobbies. Add a hobby. Try adding a duplicate.\n",
        "\n",
        "✅ Make a dictionary for a book: title, author, price. Change the price.\n",
        "\n",
        "👉 Try below:"
      ],
      "metadata": {
        "id": "4R4NYP1gn9BO"
      }
    },
    {
      "cell_type": "markdown",
      "source": [
        "**Create variables for your:**\n",
        "\n",
        "*name (string)*\n",
        "*age (integer)*\n",
        "*height (float)*\n",
        "*is_student (boolean)*"
      ],
      "metadata": {
        "id": "WU6EVaI-hxeu"
      }
    },
    {
      "cell_type": "code",
      "source": [
        "name = \"Angela\"\n",
        "age = 40\n",
        "height = 5.4\n",
        "is_student = True"
      ],
      "metadata": {
        "id": "RDs5B6xmn76f"
      },
      "execution_count": null,
      "outputs": []
    },
    {
      "cell_type": "markdown",
      "source": [
        "**Perform**:\n",
        "Addition of age + 5\n",
        "Check if age > 18\n",
        "Use and to check: is age > 18 AND is_student"
      ],
      "metadata": {
        "id": "Qizv0_7yh8ZM"
      }
    },
    {
      "cell_type": "code",
      "source": [
        "print(age+5)"
      ],
      "metadata": {
        "colab": {
          "base_uri": "https://localhost:8080/"
        },
        "id": "hS79DgYeN2zV",
        "outputId": "85608d81-3cab-4bae-f203-025d78c9ee86"
      },
      "execution_count": null,
      "outputs": [
        {
          "output_type": "stream",
          "name": "stdout",
          "text": [
            "45\n"
          ]
        }
      ]
    },
    {
      "cell_type": "code",
      "source": [
        "print(age>18)"
      ],
      "metadata": {
        "colab": {
          "base_uri": "https://localhost:8080/"
        },
        "id": "mlj3X9BnN_bu",
        "outputId": "fa53d1fa-d7fd-4e27-ea24-7aa3be315249"
      },
      "execution_count": null,
      "outputs": [
        {
          "output_type": "stream",
          "name": "stdout",
          "text": [
            "True\n"
          ]
        }
      ]
    },
    {
      "cell_type": "code",
      "source": [
        "a = age > 18\n",
        "b = is_student"
      ],
      "metadata": {
        "id": "k58ZHrzDN_Px"
      },
      "execution_count": null,
      "outputs": []
    },
    {
      "cell_type": "code",
      "source": [
        "print(\"a and b:\", a and b)"
      ],
      "metadata": {
        "colab": {
          "base_uri": "https://localhost:8080/"
        },
        "id": "hBQBh3_QOX9A",
        "outputId": "58189610-cebf-4c33-acf1-4995260225be"
      },
      "execution_count": null,
      "outputs": [
        {
          "output_type": "stream",
          "name": "stdout",
          "text": [
            "a and b: True\n"
          ]
        }
      ]
    },
    {
      "cell_type": "markdown",
      "source": [
        "**Convert height to string and print type.**"
      ],
      "metadata": {
        "id": "Tfu3-EbPjJ6a"
      }
    },
    {
      "cell_type": "code",
      "source": [
        "height = \"5.4\""
      ],
      "metadata": {
        "id": "ZpmMMi6GOnra"
      },
      "execution_count": null,
      "outputs": []
    },
    {
      "cell_type": "code",
      "source": [
        "print(type(height))"
      ],
      "metadata": {
        "colab": {
          "base_uri": "https://localhost:8080/"
        },
        "id": "EK1k5Q1BPdTP",
        "outputId": "07b1d4d7-4cef-4909-f809-5805b6325205"
      },
      "execution_count": null,
      "outputs": [
        {
          "output_type": "stream",
          "name": "stdout",
          "text": [
            "<class 'str'>\n"
          ]
        }
      ]
    },
    {
      "cell_type": "markdown",
      "source": [
        " **Create a list of 5 cities. Add 2 more, remove 1. Print the final list.**"
      ],
      "metadata": {
        "id": "NBC3tH3bjMa9"
      }
    },
    {
      "cell_type": "code",
      "source": [
        "cities = [\"Mumbai\", \"Delhi\", \"Bangalore\", \"Chennai\", \"Kolkata\"]"
      ],
      "metadata": {
        "id": "G4m-bGsvPmda"
      },
      "execution_count": null,
      "outputs": []
    },
    {
      "cell_type": "code",
      "source": [
        "cities.append(\"Hyderabad\")"
      ],
      "metadata": {
        "id": "LZqqTIghQa_k"
      },
      "execution_count": null,
      "outputs": []
    },
    {
      "cell_type": "code",
      "source": [
        "cities.append(\"Pune\")"
      ],
      "metadata": {
        "id": "RA3s-JVdRLpn"
      },
      "execution_count": null,
      "outputs": []
    },
    {
      "cell_type": "code",
      "source": [
        "print(cities)"
      ],
      "metadata": {
        "colab": {
          "base_uri": "https://localhost:8080/"
        },
        "id": "-WHmCcG2RQtz",
        "outputId": "e1147c61-1f61-4a52-8488-0b7be6bfbc30"
      },
      "execution_count": null,
      "outputs": [
        {
          "output_type": "stream",
          "name": "stdout",
          "text": [
            "['Mumbai', 'Delhi', 'Bangalore', 'Chennai', 'Kolkata', 'Hyderabad', 'Pune']\n"
          ]
        }
      ]
    },
    {
      "cell_type": "code",
      "source": [
        "cities.remove(\"Kolkata\")"
      ],
      "metadata": {
        "id": "O_elWpkdRVRp"
      },
      "execution_count": null,
      "outputs": []
    },
    {
      "cell_type": "code",
      "source": [
        "print(cities)"
      ],
      "metadata": {
        "colab": {
          "base_uri": "https://localhost:8080/"
        },
        "id": "CS8ZrcL-Rd6m",
        "outputId": "f42d1743-904e-409b-e19f-c82bc5e4c03d"
      },
      "execution_count": null,
      "outputs": [
        {
          "output_type": "stream",
          "name": "stdout",
          "text": [
            "['Mumbai', 'Delhi', 'Bangalore', 'Chennai', 'Hyderabad', 'Pune']\n"
          ]
        }
      ]
    },
    {
      "cell_type": "markdown",
      "source": [
        " **Create a tuple of 3 numbers. Access the second number.**"
      ],
      "metadata": {
        "id": "rAz6M4bRkAGl"
      }
    },
    {
      "cell_type": "code",
      "source": [
        "student_id_no = [20200065, 20200049, 20200072]"
      ],
      "metadata": {
        "id": "GEDzvE4IkCvP"
      },
      "execution_count": 2,
      "outputs": []
    },
    {
      "cell_type": "code",
      "source": [
        "student_id_no[2] = (20200065, 20200049, 11111111)"
      ],
      "metadata": {
        "id": "Z8_3-BGOsq-0"
      },
      "execution_count": 3,
      "outputs": []
    },
    {
      "cell_type": "code",
      "source": [
        "tup1 = (20200065, 20200049, 20200072)"
      ],
      "metadata": {
        "id": "TaOQWXn8nSK0"
      },
      "execution_count": 25,
      "outputs": []
    },
    {
      "cell_type": "code",
      "source": [
        "type(tup1)"
      ],
      "metadata": {
        "colab": {
          "base_uri": "https://localhost:8080/"
        },
        "id": "ANSqBcjZtOPg",
        "outputId": "1cd2a799-587a-4a3e-d06d-e92f4353cd87"
      },
      "execution_count": 26,
      "outputs": [
        {
          "output_type": "execute_result",
          "data": {
            "text/plain": [
              "tuple"
            ]
          },
          "metadata": {},
          "execution_count": 26
        }
      ]
    },
    {
      "cell_type": "code",
      "source": [
        "tup1[2] = 11111111"
      ],
      "metadata": {
        "colab": {
          "base_uri": "https://localhost:8080/",
          "height": 141
        },
        "id": "Qa63_Q47nSIL",
        "outputId": "24350e44-a7c9-44b2-8361-bb445c8586d4"
      },
      "execution_count": 27,
      "outputs": [
        {
          "output_type": "error",
          "ename": "TypeError",
          "evalue": "'tuple' object does not support item assignment",
          "traceback": [
            "\u001b[0;31m---------------------------------------------------------------------------\u001b[0m",
            "\u001b[0;31mTypeError\u001b[0m                                 Traceback (most recent call last)",
            "\u001b[0;32m/tmp/ipython-input-27-1246862104.py\u001b[0m in \u001b[0;36m<cell line: 0>\u001b[0;34m()\u001b[0m\n\u001b[0;32m----> 1\u001b[0;31m \u001b[0mtup1\u001b[0m\u001b[0;34m[\u001b[0m\u001b[0;36m2\u001b[0m\u001b[0;34m]\u001b[0m \u001b[0;34m=\u001b[0m \u001b[0;36m11111111\u001b[0m\u001b[0;34m\u001b[0m\u001b[0;34m\u001b[0m\u001b[0m\n\u001b[0m",
            "\u001b[0;31mTypeError\u001b[0m: 'tuple' object does not support item assignment"
          ]
        }
      ]
    },
    {
      "cell_type": "code",
      "source": [
        "tup1.index(20200072)"
      ],
      "metadata": {
        "colab": {
          "base_uri": "https://localhost:8080/"
        },
        "id": "Gndzl63yuNK7",
        "outputId": "68cd8505-840c-4f1a-8ee5-3eceb141fc75"
      },
      "execution_count": 28,
      "outputs": [
        {
          "output_type": "execute_result",
          "data": {
            "text/plain": [
              "2"
            ]
          },
          "metadata": {},
          "execution_count": 28
        }
      ]
    },
    {
      "cell_type": "code",
      "source": [
        "tup1[2]"
      ],
      "metadata": {
        "colab": {
          "base_uri": "https://localhost:8080/"
        },
        "id": "c_V_06IFvOK-",
        "outputId": "497a6fda-af6d-46a5-a7d4-5279e1f59be9"
      },
      "execution_count": 29,
      "outputs": [
        {
          "output_type": "execute_result",
          "data": {
            "text/plain": [
              "20200072"
            ]
          },
          "metadata": {},
          "execution_count": 29
        }
      ]
    },
    {
      "cell_type": "markdown",
      "source": [
        "**Make a set of your hobbies. Add a hobby. Try adding a duplicate.**"
      ],
      "metadata": {
        "id": "g8mgt9FQoVMS"
      }
    },
    {
      "cell_type": "code",
      "source": [
        "hobbies = {\"gardening\", \"cooking\", \"listening to music\"}"
      ],
      "metadata": {
        "id": "SRX3_dTpnSFQ"
      },
      "execution_count": 30,
      "outputs": []
    },
    {
      "cell_type": "code",
      "source": [
        "hobbies.add(\"knitting\")"
      ],
      "metadata": {
        "id": "Dh94EKRVnR98"
      },
      "execution_count": 31,
      "outputs": []
    },
    {
      "cell_type": "code",
      "source": [
        "print(hobbies)"
      ],
      "metadata": {
        "colab": {
          "base_uri": "https://localhost:8080/"
        },
        "id": "k1qRjAcfo90J",
        "outputId": "dc80833e-01e2-4af2-dec5-d8db17240668"
      },
      "execution_count": 32,
      "outputs": [
        {
          "output_type": "stream",
          "name": "stdout",
          "text": [
            "{'cooking', 'gardening', 'listening to music', 'knitting'}\n"
          ]
        }
      ]
    },
    {
      "cell_type": "code",
      "source": [
        "hobbies.add(\"gardening\")"
      ],
      "metadata": {
        "id": "jl-TC6FXpD9B"
      },
      "execution_count": 33,
      "outputs": []
    },
    {
      "cell_type": "code",
      "source": [
        "print(hobbies)"
      ],
      "metadata": {
        "colab": {
          "base_uri": "https://localhost:8080/"
        },
        "id": "ye6lHGBLpLs5",
        "outputId": "4cda3ad6-b9bf-46ef-a4e4-8ef1683c37bc"
      },
      "execution_count": 34,
      "outputs": [
        {
          "output_type": "stream",
          "name": "stdout",
          "text": [
            "{'cooking', 'gardening', 'listening to music', 'knitting'}\n"
          ]
        }
      ]
    },
    {
      "cell_type": "markdown",
      "source": [
        "**Make a dictionary for a book: title, author, price. Change the price.**"
      ],
      "metadata": {
        "id": "yg-w8Q3cpeqD"
      }
    },
    {
      "cell_type": "code",
      "source": [
        "book = {\n",
        "    \"title\": \"Garfield Lets the Dog Out\",\n",
        "    \"author\": \"Jim Davis\",\n",
        "    \"price\": 350\n",
        "}\n",
        "print(book)"
      ],
      "metadata": {
        "colab": {
          "base_uri": "https://localhost:8080/"
        },
        "id": "u7D8u21Ipk8F",
        "outputId": "e334fa73-e333-4a70-c56d-718a66b097c9"
      },
      "execution_count": null,
      "outputs": [
        {
          "output_type": "stream",
          "name": "stdout",
          "text": [
            "{'title': 'Garfield Lets the Dog Out', 'author': 'Jim Davis', 'price': 350}\n"
          ]
        }
      ]
    },
    {
      "cell_type": "code",
      "source": [
        "print (book['title'])"
      ],
      "metadata": {
        "colab": {
          "base_uri": "https://localhost:8080/"
        },
        "id": "Ive7utpXsDBI",
        "outputId": "1109b0d2-557a-4e6c-bf1a-c4896c0d6cd0"
      },
      "execution_count": null,
      "outputs": [
        {
          "output_type": "stream",
          "name": "stdout",
          "text": [
            "Garfield Lets the Dog Out\n"
          ]
        }
      ]
    },
    {
      "cell_type": "code",
      "source": [
        "book[\"price\"] = 580\n",
        "print(book)"
      ],
      "metadata": {
        "colab": {
          "base_uri": "https://localhost:8080/"
        },
        "id": "3BWpycfcswB5",
        "outputId": "80bcb2e4-47ce-4951-8e0b-ebc4543b15d1"
      },
      "execution_count": null,
      "outputs": [
        {
          "output_type": "stream",
          "name": "stdout",
          "text": [
            "{'title': 'Garfield Lets the Dog Out', 'author': 'Jim Davis', 'price': 580}\n"
          ]
        }
      ]
    },
    {
      "cell_type": "markdown",
      "source": [
        "# **🏷️ ✅ Quick Quiz**"
      ],
      "metadata": {
        "id": "XFKUND_0oEUO"
      }
    },
    {
      "cell_type": "markdown",
      "source": [
        "# 📝 Quick Quiz\n",
        "\n",
        "✅ What is the difference between an integer and a float?  \n",
        "\n",
        "✅ How do you check a variable’s type?\n",
        "\n",
        "✅ What does `==` mean?  \n",
        "\n",
        "✅ What does `and` do?\n",
        "\n",
        "✅ Which data structure is immutable?\n",
        "\n",
        "✅ Which one does not allow duplicates?\n",
        "\n",
        "✅ How do you add a key-value pair to a dictionary?\n",
        "\n",
        "✅ How do you remove an item from a set?"
      ],
      "metadata": {
        "id": "YVRGHLzyoGYm"
      }
    },
    {
      "cell_type": "markdown",
      "source": [
        "**What is the difference between an integer and a float?**\n",
        "\n",
        "**Integers** are whole numbers, example : 1, -5, 100, whereas, **Floats** are\n",
        "decimal numbers, example : 1.2, 9.5, -7.6"
      ],
      "metadata": {
        "id": "KfIDS1AatnKY"
      }
    },
    {
      "cell_type": "markdown",
      "source": [
        "**How do you check a variable's type?**\n",
        "\n",
        "*Variable's* type:\n",
        "1.   Must start with a letter or _ (under score)\n",
        "2.   It cannot start with a number\n",
        "3.   There shoulc be no space between words, insted of space we need to use\n",
        "     _ (under score)\n",
        "4.   Variable's are case sensitive.\n"
      ],
      "metadata": {
        "id": "ThU8vhjRuYJC"
      }
    },
    {
      "cell_type": "markdown",
      "source": [
        "**[What does == mean?]**\n",
        "\n",
        "In Comparison Operators, it checks if the values are equal or not equal. If it is equal then the output is 'True', if it is not equal then the output is 'False'."
      ],
      "metadata": {
        "id": "QVaBXVtbxF3l"
      }
    },
    {
      "cell_type": "markdown",
      "source": [
        "**What does *and* do?**\n",
        "\n",
        "In Logical Operators, *and* is a condition where, the output is true if both conditions are true.\n",
        "Eg: If y = True  z = False  and a = True  b = True"
      ],
      "metadata": {
        "id": "33zWXX5rzMrv"
      }
    },
    {
      "cell_type": "code",
      "source": [
        "y = True\n",
        "z = False\n",
        "print(\"y and z:\", y and z)"
      ],
      "metadata": {
        "colab": {
          "base_uri": "https://localhost:8080/"
        },
        "id": "89ifL57Qt6Or",
        "outputId": "1c018e91-f078-4e99-acb0-2fadec88b9c6"
      },
      "execution_count": null,
      "outputs": [
        {
          "output_type": "stream",
          "name": "stdout",
          "text": [
            "y and z: False\n"
          ]
        }
      ]
    },
    {
      "cell_type": "code",
      "source": [
        "a = True\n",
        "b = True\n",
        "print(\"a and b:\", a and b)"
      ],
      "metadata": {
        "colab": {
          "base_uri": "https://localhost:8080/"
        },
        "id": "RNlIH7BK1qNG",
        "outputId": "dc0b8da1-ffee-4bff-ef34-e2eae06541e6"
      },
      "execution_count": null,
      "outputs": [
        {
          "output_type": "stream",
          "name": "stdout",
          "text": [
            "a and b: True\n"
          ]
        }
      ]
    },
    {
      "cell_type": "markdown",
      "source": [
        "**Which data structure is immutable?**\n",
        "\n",
        "*Tuples*"
      ],
      "metadata": {
        "id": "2ybgzDkF2V1k"
      }
    },
    {
      "cell_type": "markdown",
      "source": [
        "** Which one does not allow duplicates?**\n",
        "\n",
        "*Sets*"
      ],
      "metadata": {
        "id": "0Du_t46z2q0O"
      }
    },
    {
      "cell_type": "markdown",
      "source": [
        "**How do you add a key-value pair to a dictionary?**"
      ],
      "metadata": {
        "id": "tU3WpAVD23Ce"
      }
    },
    {
      "cell_type": "code",
      "source": [
        "student = {\n",
        "    \"name\": \"Angela\",\n",
        "    \"class\": 2,\n",
        "    \"subject\": \"English\"\n",
        "}"
      ],
      "metadata": {
        "id": "Qe5M9bv-2fah"
      },
      "execution_count": null,
      "outputs": []
    },
    {
      "cell_type": "code",
      "source": [
        "type(student)"
      ],
      "metadata": {
        "colab": {
          "base_uri": "https://localhost:8080/"
        },
        "id": "2g2Xv5cz5j1S",
        "outputId": "093778bf-22b8-4729-eb36-396892c47b0f"
      },
      "execution_count": null,
      "outputs": [
        {
          "output_type": "execute_result",
          "data": {
            "text/plain": [
              "dict"
            ]
          },
          "metadata": {},
          "execution_count": 109
        }
      ]
    },
    {
      "cell_type": "code",
      "source": [
        "student"
      ],
      "metadata": {
        "colab": {
          "base_uri": "https://localhost:8080/"
        },
        "id": "0vYtJWzd5sm-",
        "outputId": "951e5758-f9f5-4a0a-f286-0c484bba200e"
      },
      "execution_count": null,
      "outputs": [
        {
          "output_type": "execute_result",
          "data": {
            "text/plain": [
              "{'name': 'Angela', 'class': 2, 'subject': 'English'}"
            ]
          },
          "metadata": {},
          "execution_count": 111
        }
      ]
    },
    {
      "cell_type": "code",
      "source": [
        "student['marks'] = '95'"
      ],
      "metadata": {
        "id": "H2i4uHq16JHW"
      },
      "execution_count": null,
      "outputs": []
    },
    {
      "cell_type": "code",
      "source": [
        "student"
      ],
      "metadata": {
        "colab": {
          "base_uri": "https://localhost:8080/"
        },
        "id": "OR_7lvP96dLm",
        "outputId": "ccd485a1-d1e3-475b-e722-718f87697205"
      },
      "execution_count": null,
      "outputs": [
        {
          "output_type": "execute_result",
          "data": {
            "text/plain": [
              "{'name': 'Angela', 'class': 2, 'subject': 'English', 'marks': '95'}"
            ]
          },
          "metadata": {},
          "execution_count": 113
        }
      ]
    },
    {
      "cell_type": "code",
      "source": [
        "student.keys()"
      ],
      "metadata": {
        "colab": {
          "base_uri": "https://localhost:8080/"
        },
        "id": "HsQod1Mf6gXb",
        "outputId": "2d778fd1-5b58-461b-ea6a-d299f26b0d5d"
      },
      "execution_count": null,
      "outputs": [
        {
          "output_type": "execute_result",
          "data": {
            "text/plain": [
              "dict_keys(['name', 'class', 'subject', 'marks'])"
            ]
          },
          "metadata": {},
          "execution_count": 114
        }
      ]
    },
    {
      "cell_type": "code",
      "source": [
        "student.values()"
      ],
      "metadata": {
        "colab": {
          "base_uri": "https://localhost:8080/"
        },
        "id": "2lFq6Dv66qVD",
        "outputId": "6b52ff44-b131-4826-dccc-4e4cbfc28aed"
      },
      "execution_count": null,
      "outputs": [
        {
          "output_type": "execute_result",
          "data": {
            "text/plain": [
              "dict_values(['Angela', 2, 'English', '95'])"
            ]
          },
          "metadata": {},
          "execution_count": 115
        }
      ]
    },
    {
      "cell_type": "markdown",
      "source": [
        "**How do you remove an item from a set?**"
      ],
      "metadata": {
        "id": "KcFgHUVO61iI"
      }
    },
    {
      "cell_type": "code",
      "source": [
        "Vegetables = {'onions', 'potatoes', 'ladyfingers'}"
      ],
      "metadata": {
        "id": "mCP9qQr-6t-5"
      },
      "execution_count": null,
      "outputs": []
    },
    {
      "cell_type": "code",
      "source": [
        "Vegetables.remove(\"ladyfingers\")\n",
        "print(Vegetables)"
      ],
      "metadata": {
        "colab": {
          "base_uri": "https://localhost:8080/"
        },
        "id": "ir2sRikH8WIt",
        "outputId": "15274ea5-b539-40f5-9449-62b9065ccf07"
      },
      "execution_count": null,
      "outputs": [
        {
          "output_type": "stream",
          "name": "stdout",
          "text": [
            "{'onions', 'potatoes'}\n"
          ]
        }
      ]
    },
    {
      "cell_type": "code",
      "source": [],
      "metadata": {
        "id": "6sRgyOVP8vr1"
      },
      "execution_count": null,
      "outputs": []
    }
  ]
}